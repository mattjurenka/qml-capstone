{
 "cells": [
  {
   "cell_type": "markdown",
   "id": "8b2a5725-fa49-4ac5-afe6-e188ea367129",
   "metadata": {},
   "source": [
    "# **Ansatz Circuit Configuration Testbench - Quantum Machine Learning Capstone 2022**\n",
    "\n",
    "#### **Capstone Members ⸻** Carson Darling, Brandon Downs, Christopher Haddox, Brightan Hsu, Matthew Jurenka\n",
    "\n",
    "#### **Sponsor ⸻** Dr. Gennaro De Luca\n",
    "\n",
    "<br>\n"
   ]
  },
  {
   "cell_type": "markdown",
   "id": "3378bbe3-601b-4696-972d-48a312edf9c0",
   "metadata": {},
   "source": [
    "## **Introduction**"
   ]
  },
  {
   "cell_type": "markdown",
   "id": "fd327ce4",
   "metadata": {},
   "source": [
    "The purpose of this Jupyter Notebook is to serve as a testbench for the quantum machine learning capstone group. This testbench allows for the testing of a quantum variational classifier with different ansatz configurations on three different datasets. Each dataset consists of instances containing a binary classification over 4 numeric features. The circuits will all exhibit rotational encoding over 4 qubits, allowing a qubit for each feature. The datasets are as follows:\n",
    "\n",
    "&emsp;&emsp;[Iris Dataset](https://archive.ics.uci.edu/ml/datasets/iris) ⸻ 3 classes of 150 instances of plant measures, where each class refers to a type of iris plant. This dataset will be truncated to only 2 classes.\n",
    "\n",
    "&emsp;&emsp;[Banknote Dataset](https://archive.ics.uci.edu/ml/datasets/banknote+authentication)⸻ 2 classes consisting of 1372 instances of banknote-like specimen, where each class refers to forgery or authenticate.\n",
    "\n",
    "&emsp;&emsp;[Transfusion Dataset](https://archive.ics.uci.edu/ml/datasets/Blood+Transfusion+Service+Center) ⸻ 2 classes consisting of 748 donors from the donor database, where each class refers to donation in March 2007.\n",
    "<br>"
   ]
  },
  {
   "cell_type": "markdown",
   "id": "4120f02b-605d-4250-87b5-37b380cc854e",
   "metadata": {},
   "source": [
    "### Packages and Non-Standard Python Package Installation"
   ]
  },
  {
   "cell_type": "markdown",
   "id": "3bf22395",
   "metadata": {},
   "source": [
    "The non-standard python packages used by this TestBench are TQDM, SKLearn, Pennylane, and Pandas.\n",
    "Uncomment and execute the method **clean_install()** to execute the installation via PIP. The environment must have Python 3.6+ and PIP installed."
   ]
  },
  {
   "cell_type": "code",
   "execution_count": 1,
   "id": "d551b6e5-0aaf-4e15-abc2-6346bccf06aa",
   "metadata": {},
   "outputs": [],
   "source": [
    "import subprocess\n",
    "import sys\n",
    "\n",
    "\n",
    "def pip_install(package):\n",
    "    subprocess.run([sys.executable, \"-m\", \"pip\", \"install\", package])\n",
    "\n",
    "\n",
    "def clean_install():\n",
    "    [pip_install(package)\n",
    "     for package in ['tqdm', 'sklearn', 'pennylane', 'pandas']]\n",
    "\n",
    "# clean_install()\n"
   ]
  },
  {
   "cell_type": "code",
   "execution_count": 2,
   "id": "34db21a7",
   "metadata": {},
   "outputs": [],
   "source": [
    "from sklearn.model_selection import train_test_split\n",
    "from tqdm.notebook import tqdm_notebook\n",
    "from pennylane import numpy as np\n",
    "import pennylane as qml\n",
    "import random as rand\n",
    "import time as time\n",
    "import pandas as pd\n",
    "import os as os\n"
   ]
  },
  {
   "cell_type": "markdown",
   "id": "842143aa-5513-4537-993f-d84c3a627a18",
   "metadata": {},
   "source": [
    "## **Methodology**\n"
   ]
  },
  {
   "cell_type": "markdown",
   "id": "fafb49e2-19cf-4a55-b0eb-33b6fecca4e1",
   "metadata": {},
   "source": [
    "### **Independent Variables**\n"
   ]
  },
  {
   "cell_type": "code",
   "execution_count": 3,
   "id": "4af6a96e",
   "metadata": {},
   "outputs": [],
   "source": [
    "# Relating to the tests\n",
    "NUM_ITERATIONS = 10\n",
    "\n",
    "# Relating to Circuit Configurations\n",
    "DEV = qml.device(\"default.qubit\", wires=4)\n",
    "NUM_QUBITS = 4\n",
    "\n",
    "# Relating to the Variational Classifier\n",
    "NUM_LAYERS = 6\n",
    "BATCH_SIZE = 5\n",
    "STEP_SIZE = .1\n",
    "MAX_EPOCHS = 100\n",
    "BIAS_INIT = np.array(0.0, requires_grad=True)\n",
    "OPTIMIZER = qml.optimize.AdamOptimizer(STEP_SIZE)\n",
    "WEIGHTS_INIT = 0.01 * np.random.randn(NUM_LAYERS, NUM_QUBITS, 3, requires_grad=True)\n",
    "\n",
    "# Relating to the datasets\n",
    "paths = ['~/Documents/QML/iris.data', '~/Documents/QML/banknote.data',\n",
    "         '~/Documents/QML/transfusion.data']\n",
    "DATAFRAMES = [((os.path.splitext(os.path.basename(path))[0]).capitalize(), pd.read_csv(\n",
    "    path, names=['a0', 'a1', 'a2', 'aNUM_ITERATIONS', 'target'])) for path in paths]"
   ]
  },
  {
   "cell_type": "markdown",
   "id": "32724f97-c440-45f0-b1ce-7126a40eca92",
   "metadata": {},
   "source": [
    "### **Dependent Variable** - Ansatz Circuit Configuration\n"
   ]
  },
  {
   "cell_type": "markdown",
   "id": "50473a8a-89ff-418e-9cb2-cdbd03c0b28b",
   "metadata": {},
   "source": [
    "This global variable will serve as a function reference to a specific tested ansatz circuit configuration during test iterations. The implementation of function reference serves for increased readability in circuit configurations by encapsulating encoding techniques within a circuit configuration.\n"
   ]
  },
  {
   "cell_type": "code",
   "execution_count": 4,
   "id": "88088b77-3338-473f-b482-936a0c4a5eca",
   "metadata": {},
   "outputs": [],
   "source": [
    "CURRENT_TEST_CIRCUIT = None\n"
   ]
  },
  {
   "cell_type": "markdown",
   "id": "fdf2d4af-1a01-4507-bed8-ba11f7a75045",
   "metadata": {},
   "source": [
    "### **Ansatz Circuit Configuration Library**\n"
   ]
  },
  {
   "cell_type": "code",
   "execution_count": 5,
   "id": "976a2f7a-3473-4c8f-90c4-61691417e634",
   "metadata": {},
   "outputs": [],
   "source": [
    "# 3 Basic types of Ansatz\n",
    "def layered_gate_circuit(params, x):\n",
    "    pass\n",
    "\n",
    "\n",
    "def alternating_operator_circuit():\n",
    "    pass\n",
    "\n",
    "\n",
    "def tensor_network_circuit():\n",
    "    pass\n",
    "\n",
    "\n",
    "@qml.qnode(DEV)\n",
    "def qaoa_circuit(features):\n",
    "    # TODO for matthew\n",
    "    # https://discuss.pennylane.ai/t/qaoa-embedding-layer/1724/2\n",
    "    # https://docs.pennylane.ai/en/latest/code/api/pennylane.QAOAEmbedding.html\n",
    "\n",
    "    return None\n",
    "\n",
    "\n",
    "# Pennylane Circuit from Quantum Variational Classifier\n",
    "@qml.qnode(DEV)\n",
    "def pennylane_circuit(weights, features):\n",
    "    rotational_encoding(features)\n",
    "\n",
    "    for W in weights:\n",
    "        qml.Rot(W[0, 0], W[0, 1], W[0, 2], wires=0)\n",
    "        qml.Rot(W[1, 0], W[1, 1], W[1, 2], wires=1)\n",
    "        qml.Rot(W[2, 0], W[2, 1], W[2, 2], wires=2)\n",
    "        qml.Rot(W[3, 0], W[3, 1], W[3, 2], wires=3)\n",
    "        qml.CNOT(wires=[0, 1])\n",
    "        qml.CNOT(wires=[1, 2])\n",
    "        qml.CNOT(wires=[2, 3])\n",
    "        qml.CNOT(wires=[3, 0])\n",
    "\n",
    "    return qml.expval(qml.PauliZ(0))\n",
    "\n",
    "# https://quantaggle.com/algorithms/ansatz/\n",
    "\n",
    "\n",
    "@qml.qnode(DEV)\n",
    "def hardware_efficient_circuit(weights, features):\n",
    "    rotational_encoding(features)\n",
    "\n",
    "    for W in weights[:-1]:\n",
    "        qml.RY(W[0, 0], wires=0)\n",
    "        qml.RZ(W[0, 1], wires=0)\n",
    "        qml.RY(W[1, 0], wires=0)\n",
    "        qml.RZ(W[1, 1], wires=0)\n",
    "        qml.RY(W[2, 0], wires=0)\n",
    "        qml.RZ(W[2, 1], wires=0)\n",
    "        qml.RY(W[3, 0], wires=0)\n",
    "        qml.RZ(W[3, 1], wires=0)\n",
    "        qml.CZ(wires=[0, 1])\n",
    "        qml.CZ(wires=[2, 3])\n",
    "        qml.CZ(wires=[1, 2])\n",
    "\n",
    "    W = weights[-1]\n",
    "    qml.RY(W[0, 0], wires=0)\n",
    "    qml.RZ(W[0, 1], wires=0)\n",
    "    qml.RY(W[1, 0], wires=0)\n",
    "    qml.RZ(W[1, 1], wires=0)\n",
    "    qml.RY(W[2, 0], wires=0)\n",
    "    qml.RZ(W[2, 1], wires=0)\n",
    "    qml.RY(W[3, 0], wires=0)\n",
    "    qml.RZ(W[3, 1], wires=0)\n",
    "\n",
    "    return qml.expval(qml.PauliZ(0))\n",
    "\n",
    "# https://pennylane.ai/qml/glossary/circuit_ansatz.html#a-parametrized-b-parametrized\n",
    "\n",
    "\n",
    "@qml.qnode(DEV)\n",
    "def pennylane_ab_paramaterized(weights, features):\n",
    "    rotational_encoding(features)\n",
    "\n",
    "    for W in weights:\n",
    "        qml.CRot(W[0, 0], W[0, 1], W[0, 2], wires=[0, 2])\n",
    "        qml.CRot(W[1, 0], W[1, 1], W[1, 2], wires=[1, 3])\n",
    "        qml.CRot(W[2, 0], W[2, 1], W[2, 2], wires=[2, 0])\n",
    "        qml.CRot(W[3, 0], W[3, 1], W[3, 2], wires=[3, 1])\n",
    "\n",
    "    return qml.expval(qml.PauliZ(0))\n",
    "\n",
    "# https://arxiv.org/pdf/1612.02806.pdf\n",
    "\n",
    "\n",
    "@qml.qnode(DEV)\n",
    "def pairwise_controlled_rot(weights, features):\n",
    "    rotational_encoding(features)\n",
    "\n",
    "    for W in weights:\n",
    "        qml.CRot(W[0, 0], W[0, 1], W[0, 2], wires=[0, 1])\n",
    "        qml.CRot(W[0, 0], W[0, 1], W[0, 2], wires=[0, 2])\n",
    "        qml.CRot(W[0, 0], W[0, 1], W[0, 2], wires=[0, 3])\n",
    "\n",
    "        qml.CRot(W[1, 0], W[1, 1], W[1, 2], wires=[1, 0])\n",
    "        qml.CRot(W[1, 0], W[1, 1], W[1, 2], wires=[1, 2])\n",
    "        qml.CRot(W[1, 0], W[1, 1], W[1, 2], wires=[1, 3])\n",
    "\n",
    "        qml.CRot(W[2, 0], W[2, 1], W[2, 2], wires=[2, 3])\n",
    "        qml.CRot(W[2, 0], W[2, 1], W[2, 2], wires=[2, 1])\n",
    "        qml.CRot(W[2, 0], W[2, 1], W[2, 2], wires=[2, 0])\n",
    "\n",
    "        qml.CRot(W[3, 0], W[3, 1], W[3, 2], wires=[3, 2])\n",
    "        qml.CRot(W[3, 0], W[3, 1], W[3, 2], wires=[3, 1])\n",
    "        qml.CRot(W[3, 0], W[3, 1], W[3, 2], wires=[3, 0])\n",
    "\n",
    "    return qml.expval(qml.PauliZ(0))\n",
    "\n",
    "\n",
    "circuit_library = [pennylane_circuit, hardware_efficient_circuit,\n",
    "                   pennylane_ab_paramaterized, pairwise_controlled_rot]\n"
   ]
  },
  {
   "cell_type": "markdown",
   "id": "e579af31-740f-4ca4-ae82-a8fe8f095e63",
   "metadata": {},
   "source": [
    "### **Quantum Variational Classifier**\n"
   ]
  },
  {
   "cell_type": "markdown",
   "id": "abc8ace2-673e-47cd-871b-212a3f79a7e6",
   "metadata": {},
   "source": [
    "Below is the variational classifier and its supporting functions. This variational classifier model is adapted from the [pennylane variational classifier demo](https://pennylane.ai/qml/demos/tutorial_variational_classifier.html).\n"
   ]
  },
  {
   "cell_type": "code",
   "execution_count": 6,
   "id": "8e42d2fe",
   "metadata": {},
   "outputs": [],
   "source": [
    "def variational_classifier(weights, bias, angles):\n",
    "    return CURRENT_TEST_CIRCUIT(weights, angles) + bias\n",
    "\n",
    "\n",
    "def cost(weights, bias, features, labels):\n",
    "    predictions = [variational_classifier(weights, bias, f) for f in features]\n",
    "    return square_loss(labels, predictions)\n"
   ]
  },
  {
   "cell_type": "code",
   "execution_count": 7,
   "id": "004d4dc0",
   "metadata": {},
   "outputs": [],
   "source": [
    "def square_loss(labels, predictions):\n",
    "    loss = 0\n",
    "    for l, p in zip(labels, predictions):\n",
    "        loss = loss + (l - p) ** 2\n",
    "\n",
    "    loss = loss / len(labels)\n",
    "    return loss\n",
    "\n",
    "\n",
    "def accuracy(labels, predictions):\n",
    "    loss = 0\n",
    "    for l, p in zip(labels, predictions):\n",
    "        if abs(l - p) < 1e-5:\n",
    "            loss = loss + 1\n",
    "    loss = loss / len(labels)\n",
    "\n",
    "    return loss\n"
   ]
  },
  {
   "cell_type": "code",
   "execution_count": 8,
   "id": "6b57694d",
   "metadata": {},
   "outputs": [],
   "source": [
    "header_template = '\\t{:<7}   {:<7}   {:<16}   {:<15}'\n",
    "bar_format=\"{bar}{n_fmt}/{total_fmt} [{desc} {elapsed}, {rate_fmt}]\"\n",
    "\n",
    "def print_header():\n",
    "    # Print the header for the current Iteration\n",
    "    print(header_template.replace(':', ':-').format('', '', '', ''))\n",
    "    print(header_template.format(\n",
    "        *['Epoch', 'Cost', 'Train_Accuracy', 'Test_Accuracy']))\n",
    "    print(header_template.replace(':', ':-').format('', '', '', ''))\n",
    "\n",
    "\n",
    "def print_summary(max_cost, max_train, max_test):\n",
    "    print(header_template.replace(':', ':-').format('', '', '', ''))\n",
    "    print(header_template.format(*['Maxima', f'{max_cost:0.3f}',\n",
    "          f'{max_train:0.7f}', f'{max_test:0.7f}']))\n",
    "    print(header_template.replace(':', ':-').format('', '', '', ''))\n",
    "\n",
    "\n",
    "def train_classifier(dataset):\n",
    "\n",
    "    # Preprocess the data and seperate into train and test sets. Initialize the weights, bias.\n",
    "    features, labels = preprocess(dataset[1])\n",
    "    X_train, X_test, y_train, y_test = train_test_split(\n",
    "        features, labels, test_size=0.25, random_state=rand.randint(0, 100))\n",
    "    weights, bias = WEIGHTS_INIT, BIAS_INIT\n",
    "    max_cost = max_train = max_test = 0\n",
    "\n",
    "    epoch_progress = tqdm_notebook(range(MAX_EPOCHS), desc='Classifier Progress', bar_format=bar_format)\n",
    "\n",
    "    with epoch_progress as pbar:\n",
    "\n",
    "        for epoch_index in range(MAX_EPOCHS):\n",
    "\n",
    "            if not epoch_index:\n",
    "                print_header()\n",
    "\n",
    "            # Update the weights by one optimizer step\n",
    "            batch_index = np.random.randint(0, len(X_train), (BATCH_SIZE,))\n",
    "\n",
    "            X_train_batch = X_train[batch_index]\n",
    "            y_train_batch = y_train[batch_index]\n",
    "            weights, bias, _, _ = OPTIMIZER.step(\n",
    "                cost, weights, bias, X_train_batch, y_train_batch)\n",
    "\n",
    "            # Compute predictions on train and validation set\n",
    "            predictions_train = [np.sign(variational_classifier(\n",
    "                weights, bias, value)) for value in X_train]\n",
    "            predictions_test = [np.sign(variational_classifier(\n",
    "                weights, bias, value)) for value in X_test]\n",
    "\n",
    "            # Compute accuracy on train and validation set\n",
    "            accuracy_train = accuracy(y_train, predictions_train)\n",
    "            accuracy_test = accuracy(y_test, predictions_test)\n",
    "            epoch_cost = cost(weights, bias, features, labels)\n",
    "\n",
    "            # Tabulate a summary of the current epoch\n",
    "            print(header_template.format(*[f'{epoch_index:4d}', f'{epoch_cost:0.3f}',\n",
    "                f'{accuracy_train:0.7f}', f'{accuracy_test:0.7f}']))\n",
    "            max_cost = epoch_cost if epoch_cost > max_cost else max_cost\n",
    "            max_train = accuracy_train if accuracy_test > max_train else max_train\n",
    "            max_test = accuracy_test if accuracy_test > max_test else max_test\n",
    "\n",
    "            # Break if train and test validation is 100% accuracy.\n",
    "            if accuracy_test == accuracy_train == 1:\n",
    "                pbar.update(MAX_EPOCHS-epoch_index)\n",
    "                pbar.close()\n",
    "                break\n",
    "            else:\n",
    "                pbar.update(1)\n",
    "\n",
    "\n",
    "\n",
    "\n",
    "    print_summary(max_cost, max_train, max_test)\n"
   ]
  },
  {
   "cell_type": "markdown",
   "id": "908455cc-3dde-4ec8-88f1-b32d46f6fea1",
   "metadata": {},
   "source": [
    "### **Data Preparation, Preprocessing, and Encoding**\n"
   ]
  },
  {
   "cell_type": "code",
   "execution_count": 9,
   "id": "053b239b",
   "metadata": {},
   "outputs": [],
   "source": [
    "def preprocess(df):\n",
    "\n",
    "    df.target = df.target.map(\n",
    "        {df.target.unique()[0]: -1, df.target.unique()[1]: 1})\n",
    "\n",
    "    if df.target.value_counts()[-1] >= 100 and df.target.value_counts()[1] >= 100:\n",
    "        df = pd.concat([\n",
    "            df[(df.target == -1)].sample(n=100, replace=False,\n",
    "                                         random_state=rand.randint(0, 100)),\n",
    "            df[(df.target == 1)].sample(n=100, replace=False,\n",
    "                                        random_state=rand.randint(0, 100))\n",
    "        ])\n",
    "    else:\n",
    "        df = df[(df.target == -1) | (df.target == 1)]\n",
    "\n",
    "    X = np.array(df)[:, 0:4]\n",
    "    features = 2 * np.pi * (X - np.min(X)) / (np.max(X) - np.min(X))\n",
    "    labels = np.array(df)[:, -1]\n",
    "\n",
    "    return features, labels\n",
    "\n",
    "\n",
    "def rotational_encoding(x):\n",
    "    qml.Rot(x[0], x[0], x[0], wires=0)\n",
    "    qml.Rot(x[1], x[1], x[1], wires=1)\n",
    "    qml.Rot(x[2], x[2], x[2], wires=2)\n",
    "    qml.Rot(x[3], x[3], x[3], wires=3)\n",
    "    qml.CNOT(wires=[0, 1])\n",
    "    qml.CNOT(wires=[1, 2])\n",
    "    qml.CNOT(wires=[2, 3])\n",
    "    qml.CNOT(wires=[3, 0])\n",
    "    return np.array(x)\n"
   ]
  },
  {
   "cell_type": "markdown",
   "id": "0e8eefec-0b56-42ee-9d26-8e8796dd1612",
   "metadata": {},
   "source": [
    "### **Test Execution**\n"
   ]
  },
  {
   "cell_type": "code",
   "execution_count": 10,
   "id": "bc0b1fd7-cf3e-4bb9-a3d3-4fdd043fd818",
   "metadata": {},
   "outputs": [
    {
     "data": {
      "application/vnd.jupyter.widget-view+json": {
       "model_id": "be640c1bf48f48f3a894b01d838fa390",
       "version_major": 2,
       "version_minor": 0
      },
      "text/plain": [
       "          0/3 [Pennylane_circuit Progress 00:00, ?it/s]"
      ]
     },
     "metadata": {},
     "output_type": "display_data"
    },
    {
     "data": {
      "application/vnd.jupyter.widget-view+json": {
       "model_id": "f015745f84314f2f86585738c10612aa",
       "version_major": 2,
       "version_minor": 0
      },
      "text/plain": [
       "          0/3 [Iris Progress 00:00, ?it/s]"
      ]
     },
     "metadata": {},
     "output_type": "display_data"
    },
    {
     "data": {
      "application/vnd.jupyter.widget-view+json": {
       "model_id": "71dbd28a03dc437c96d432bd4f2e1c05",
       "version_major": 2,
       "version_minor": 0
      },
      "text/plain": [
       "          0/100 [Classifier Progress 00:00, ?it/s]"
      ]
     },
     "metadata": {},
     "output_type": "display_data"
    },
    {
     "name": "stdout",
     "output_type": "stream",
     "text": [
      "\t-------   -------   ----------------   ---------------\n",
      "\tEpoch     Cost      Train_Accuracy     Test_Accuracy  \n",
      "\t-------   -------   ----------------   ---------------\n",
      "\t   0      2.146     0.0133333          0.0400000      \n",
      "\t   1      1.469     0.0933333          0.1600000      \n",
      "\t   2      0.961     0.4800000          0.4000000      \n",
      "\t   3      0.610     0.8800000          0.9200000      \n",
      "\t   4      0.377     0.9733333          1.0000000      \n",
      "\t   5      0.290     0.9866667          1.0000000      \n",
      "\t   6      0.351     1.0000000          1.0000000      \n",
      "\t-------   -------   ----------------   ---------------\n",
      "\tMaxima    2.146     1.0000000          1.0000000      \n",
      "\t-------   -------   ----------------   ---------------\n"
     ]
    },
    {
     "data": {
      "application/vnd.jupyter.widget-view+json": {
       "model_id": "f1cd411f71c748108f00d0c4576669f6",
       "version_major": 2,
       "version_minor": 0
      },
      "text/plain": [
       "          0/100 [Classifier Progress 00:00, ?it/s]"
      ]
     },
     "metadata": {},
     "output_type": "display_data"
    },
    {
     "name": "stdout",
     "output_type": "stream",
     "text": [
      "\t-------   -------   ----------------   ---------------\n",
      "\tEpoch     Cost      Train_Accuracy     Test_Accuracy  \n",
      "\t-------   -------   ----------------   ---------------\n",
      "\t   0      2.232     0.0133333          0.0400000      \n",
      "\t   1      2.026     0.0133333          0.0800000      \n",
      "\t   2      1.717     0.1333333          0.2400000      \n",
      "\t   3      1.222     0.3333333          0.3600000      \n",
      "\t   4      0.794     0.6400000          0.6400000      \n",
      "\t   5      0.592     0.8533333          0.7600000      \n",
      "\t   6      0.509     0.9333333          0.8000000      \n",
      "\t   7      0.458     0.9866667          0.9200000      \n",
      "\t   8      0.429     1.0000000          1.0000000      \n",
      "\t-------   -------   ----------------   ---------------\n",
      "\tMaxima    2.232     1.0000000          1.0000000      \n",
      "\t-------   -------   ----------------   ---------------\n"
     ]
    },
    {
     "data": {
      "application/vnd.jupyter.widget-view+json": {
       "model_id": "7e2880d727354daabd442ec7792e4ff9",
       "version_major": 2,
       "version_minor": 0
      },
      "text/plain": [
       "          0/100 [Classifier Progress 00:00, ?it/s]"
      ]
     },
     "metadata": {},
     "output_type": "display_data"
    },
    {
     "name": "stdout",
     "output_type": "stream",
     "text": [
      "\t-------   -------   ----------------   ---------------\n",
      "\tEpoch     Cost      Train_Accuracy     Test_Accuracy  \n",
      "\t-------   -------   ----------------   ---------------\n",
      "\t   0      2.230     0.0266667          0.0000000      \n",
      "\t   1      1.926     0.0533333          0.0800000      \n",
      "\t   2      1.476     0.1466667          0.1200000      \n",
      "\t   3      1.017     0.5600000          0.4000000      \n",
      "\t   4      0.616     0.9333333          0.9200000      \n",
      "\t   5      0.388     0.9600000          1.0000000      \n",
      "\t   6      0.299     1.0000000          1.0000000      \n",
      "\t-------   -------   ----------------   ---------------\n",
      "\tMaxima    2.230     1.0000000          1.0000000      \n",
      "\t-------   -------   ----------------   ---------------\n"
     ]
    },
    {
     "data": {
      "application/vnd.jupyter.widget-view+json": {
       "model_id": "202e441b1692467d99f811e496ceba5d",
       "version_major": 2,
       "version_minor": 0
      },
      "text/plain": [
       "          0/3 [Banknote Progress 00:00, ?it/s]"
      ]
     },
     "metadata": {},
     "output_type": "display_data"
    },
    {
     "data": {
      "application/vnd.jupyter.widget-view+json": {
       "model_id": "4faa5f62eaaf41179920e92eb90227ab",
       "version_major": 2,
       "version_minor": 0
      },
      "text/plain": [
       "          0/100 [Classifier Progress 00:00, ?it/s]"
      ]
     },
     "metadata": {},
     "output_type": "display_data"
    },
    {
     "name": "stdout",
     "output_type": "stream",
     "text": [
      "\t-------   -------   ----------------   ---------------\n",
      "\tEpoch     Cost      Train_Accuracy     Test_Accuracy  \n",
      "\t-------   -------   ----------------   ---------------\n",
      "\t   0      1.365     0.5733333          0.5400000      \n",
      "\t   1      1.265     0.5733333          0.5400000      \n",
      "\t   2      1.099     0.5733333          0.5400000      \n",
      "\t   3      0.934     0.5733333          0.5400000      \n",
      "\t   4      0.876     0.7333333          0.6800000      \n",
      "\t   5      0.951     0.6000000          0.6000000      \n",
      "\t   6      0.988     0.5733333          0.5400000      \n",
      "\t   7      0.945     0.6000000          0.6600000      \n",
      "\t   8      0.820     0.6866667          0.7000000      \n",
      "\t   9      0.774     0.7333333          0.7600000      \n",
      "\t  10      0.811     0.7333333          0.7200000      \n",
      "\t  11      0.803     0.7266667          0.7600000      \n",
      "\t  12      0.810     0.7333333          0.7400000      \n",
      "\t  13      0.887     0.6200000          0.6800000      \n",
      "\t  14      0.972     0.4933333          0.4600000      \n",
      "\t  15      1.001     0.4866667          0.4400000      \n",
      "\t  16      0.967     0.5200000          0.4200000      \n",
      "\t  17      0.981     0.6133333          0.4800000      \n",
      "\t  18      0.970     0.6000000          0.5600000      \n",
      "\t  19      0.860     0.6600000          0.5200000      \n",
      "\t  20      0.791     0.6933333          0.5400000      \n",
      "\t  21      0.758     0.6733333          0.5400000      \n",
      "\t  22      0.736     0.6800000          0.5400000      \n",
      "\t  23      0.711     0.7066667          0.5800000      \n",
      "\t  24      0.664     0.7666667          0.7200000      \n",
      "\t  25      0.615     0.8733333          0.9400000      \n",
      "\t  26      0.608     0.9133333          0.9800000      \n",
      "\t  27      0.622     0.9133333          0.9400000      \n",
      "\t  28      0.649     0.9000000          0.8600000      \n",
      "\t  29      0.667     0.8866667          0.8600000      \n",
      "\t  30      0.668     0.8800000          0.8600000      \n",
      "\t  31      0.660     0.8200000          0.8200000      \n",
      "\t  32      0.647     0.8800000          0.8200000      \n",
      "\t  33      0.640     0.8933333          0.8200000      \n",
      "\t  34      0.654     0.8733333          0.8400000      \n",
      "\t  35      0.644     0.8933333          0.8400000      \n",
      "\t  36      0.619     0.8933333          0.7600000      \n",
      "\t  37      0.628     0.8066667          0.7200000      \n",
      "\t  38      0.639     0.7866667          0.6800000      \n",
      "\t  39      0.649     0.7800000          0.6600000      \n",
      "\t  40      0.643     0.8266667          0.7200000      \n",
      "\t  41      0.629     0.9000000          0.8000000      \n",
      "\t  42      0.624     0.9000000          0.8800000      \n",
      "\t  43      0.634     0.8866667          0.9000000      \n",
      "\t  44      0.624     0.8866667          0.9000000      \n",
      "\t  45      0.591     0.8933333          0.8800000      \n",
      "\t  46      0.569     0.8933333          0.9000000      \n",
      "\t  47      0.565     0.8800000          0.8400000      \n",
      "\t  48      0.583     0.8466667          0.7400000      \n",
      "\t  49      0.583     0.8333333          0.7400000      \n",
      "\t  50      0.577     0.8400000          0.7400000      \n",
      "\t  51      0.567     0.8800000          0.7600000      \n",
      "\t  52      0.565     0.9000000          0.8400000      \n",
      "\t  53      0.577     0.9133333          0.8600000      \n",
      "\t  54      0.570     0.9200000          0.8800000      \n",
      "\t  55      0.556     0.9400000          0.8800000      \n",
      "\t  56      0.547     0.9266667          0.8600000      \n",
      "\t  57      0.544     0.9333333          0.8600000      \n",
      "\t  58      0.546     0.9333333          0.8800000      \n",
      "\t  59      0.542     0.9333333          0.8800000      \n",
      "\t  60      0.534     0.9266667          0.9000000      \n",
      "\t  61      0.534     0.9200000          0.8800000      \n",
      "\t  62      0.532     0.9000000          0.8800000      \n",
      "\t  63      0.530     0.9066667          0.8800000      \n",
      "\t  64      0.520     0.9133333          0.9400000      \n",
      "\t  65      0.556     0.8600000          0.9000000      \n",
      "\t  66      0.579     0.8066667          0.8400000      \n",
      "\t  67      0.638     0.7333333          0.7200000      \n",
      "\t  68      0.631     0.7533333          0.7800000      \n",
      "\t  69      0.571     0.8266667          0.8600000      \n",
      "\t  70      0.519     0.8733333          0.9600000      \n",
      "\t  71      0.492     0.9000000          0.9600000      \n",
      "\t  72      0.492     0.9200000          0.9800000      \n",
      "\t  73      0.508     0.8933333          0.9600000      \n",
      "\t  74      0.537     0.8800000          0.8800000      \n",
      "\t  75      0.567     0.8600000          0.8800000      \n",
      "\t  76      0.557     0.8666667          0.8400000      \n",
      "\t  77      0.548     0.8800000          0.8400000      \n",
      "\t  78      0.538     0.8933333          0.8600000      \n",
      "\t  79      0.536     0.9066667          0.8600000      \n",
      "\t  80      0.535     0.9066667          0.8600000      \n",
      "\t  81      0.542     0.9133333          0.8600000      \n",
      "\t  82      0.558     0.8666667          0.8400000      \n",
      "\t  83      0.543     0.9133333          0.8400000      \n",
      "\t  84      0.526     0.9400000          0.8800000      \n",
      "\t  85      0.518     0.9400000          0.8800000      \n",
      "\t  86      0.521     0.9333333          0.9000000      \n",
      "\t  87      0.549     0.8666667          0.9200000      \n",
      "\t  88      0.543     0.8866667          0.9400000      \n",
      "\t  89      0.544     0.8733333          0.9600000      \n",
      "\t  90      0.567     0.8400000          0.9400000      \n",
      "\t  91      0.567     0.8333333          0.9200000      \n",
      "\t  92      0.550     0.8933333          0.9600000      \n",
      "\t  93      0.551     0.9200000          0.9600000      \n",
      "\t  94      0.546     0.9133333          0.9600000      \n"
     ]
    }
   ],
   "source": [
    "def TEST(circuit):\n",
    "\n",
    "    # Set the tested circuit global to the circuit\n",
    "    global CURRENT_TEST_CIRCUIT\n",
    "    CURRENT_TEST_CIRCUIT = circuit\n",
    "\n",
    "    for dataset in tqdm_notebook(DATAFRAMES, desc=f'{circuit.__name__.capitalize()} Progress', bar_format=bar_format):\n",
    "\n",
    "        for iteration in tqdm_notebook(range(NUM_ITERATIONS), desc=f'{dataset[0]} Progress', bar_format=bar_format):\n",
    "\n",
    "            train_classifier(dataset)\n",
    "\n",
    "global NUM_ITERATIONS #TODO: See below\n",
    "global MAX_EPOCHS\n",
    "NUM_ITERATIONS = 3  # TODO: Delete this later, the global is set to 10 earlier in constants\n",
    "\n",
    "\n",
    "[TEST(circuit) for circuit in circuit_library]\n",
    "\n",
    "# TODO:\n",
    "# 1. Collect Data and send to CSV\n",
    "# 2. Select the best run from optimization steps\n",
    "#     Maybe Double the step size and run 3 iterations of each step size? Cast out outliers during data processing\n",
    "#     Maybe Run different optimizers as well?\n",
    "# 3. Graph it on completion\n",
    "\n",
    "\n",
    "# Q for group\n",
    "# 1.  Increase Iterations\n",
    "# AdamOPtimizer <-\n",
    "# MomemtumOptimizer <-\n",
    "# 2. Undersampling\n",
    "# 3. Iris -> flower1 flower2 flower3 linearity\n",
    "\n",
    "\n",
    "\n",
    "# TIME THE ITERATIONS???"
   ]
  },
  {
   "cell_type": "markdown",
   "id": "e885420b-28e8-4914-a75d-dfae63c556ab",
   "metadata": {},
   "source": [
    "## **Results**\n",
    "\n"
   ]
  },
  {
   "cell_type": "markdown",
   "id": "7f35b8ad-c764-4212-a574-0dcd6f68ee15",
   "metadata": {},
   "source": [
    "## **Discussion**"
   ]
  },
  {
   "cell_type": "markdown",
   "id": "e67ae21b-a97c-436f-8bc4-ad0d0039d4a5",
   "metadata": {},
   "source": [
    "## **Conclusion**\n"
   ]
  }
 ],
 "metadata": {
  "kernelspec": {
   "display_name": "Python 3.9.7 ('base')",
   "language": "python",
   "name": "python3"
  },
  "language_info": {
   "codemirror_mode": {
    "name": "ipython",
    "version": 3
   },
   "file_extension": ".py",
   "mimetype": "text/x-python",
   "name": "python",
   "nbconvert_exporter": "python",
   "pygments_lexer": "ipython3",
   "version": "3.9.7"
  },
  "vscode": {
   "interpreter": {
    "hash": "168210a5125566aee6b94832c7432ab548cbeb72cd6caf82bcf2b15731521e28"
   }
  }
 },
 "nbformat": 4,
 "nbformat_minor": 5
}
