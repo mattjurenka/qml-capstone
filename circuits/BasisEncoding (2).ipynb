{
 "cells": [
  {
   "cell_type": "code",
   "execution_count": 2,
   "id": "0d2c2ceb-9534-40b4-a033-5b31b7417d56",
   "metadata": {},
   "outputs": [
    {
     "name": "stdout",
     "output_type": "stream",
     "text": [
      "     ┌───────────────┐\n",
      "q_0: ┤ Initialize(1) ├\n",
      "     ├───────────────┤\n",
      "q_1: ┤ Initialize(1) ├\n",
      "     ├───────────────┤\n",
      "q_2: ┤ Initialize(1) ├\n",
      "     └───────────────┘\n"
     ]
    }
   ],
   "source": [
    "from qiskit import QuantumCircuit\n",
    "\n",
    "\n",
    "input = 7\n",
    "circuits = len(bin(input))\n",
    "qc = QuantumCircuit(circuits - 2)\n",
    "for i in range(0, circuits - 2):\n",
    "    initial = int(bin(input)[i + 2])\n",
    "    qc.initialize(initial, i)\n",
    "print(qc)"
   ]
  },
  {
   "cell_type": "code",
   "execution_count": null,
   "id": "c435e7d5-7166-4c2d-a3fb-f28cab3aa9a2",
   "metadata": {},
   "outputs": [],
   "source": []
  },
  {
   "cell_type": "code",
   "execution_count": null,
   "id": "7c9a6354-fe66-43f1-9774-cda17899f495",
   "metadata": {},
   "outputs": [],
   "source": []
  }
 ],
 "metadata": {
  "kernelspec": {
   "display_name": "Qiskit v0.34.2 (ipykernel)",
   "language": "python",
   "name": "python3"
  },
  "language_info": {
   "codemirror_mode": {
    "name": "ipython",
    "version": 3
   },
   "file_extension": ".py",
   "mimetype": "text/x-python",
   "name": "python",
   "nbconvert_exporter": "python",
   "pygments_lexer": "ipython3",
   "version": "3.8.12"
  },
  "widgets": {
   "application/vnd.jupyter.widget-state+json": {
    "state": {},
    "version_major": 2,
    "version_minor": 0
   }
  }
 },
 "nbformat": 4,
 "nbformat_minor": 5
}
