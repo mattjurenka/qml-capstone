{
  "cells": [
    {
      "cell_type": "markdown",
      "id": "8b2a5725-fa49-4ac5-afe6-e188ea367129",
      "metadata": {
        "id": "8b2a5725-fa49-4ac5-afe6-e188ea367129"
      },
      "source": [
        "# **Ansatz Circuit Configuration Testbench - Quantum Machine Learning Capstone 2022**\n",
        "#### **Capstone Members ⸻** Carson Darling, Brandon Downs, Christopher Haddox, Brightan Hsu, Matthew Jurenka\n",
        "#### **Sponsor ⸻** Dr. Gennaro De Luca\n",
        "\n",
        "<br>"
      ]
    },
    {
      "cell_type": "markdown",
      "id": "4120f02b-605d-4250-87b5-37b380cc854e",
      "metadata": {
        "id": "4120f02b-605d-4250-87b5-37b380cc854e"
      },
      "source": [
        "### Packages and Non-Standard Python Package Installation\n",
        "The non-standard python packages used by this TestBench are SKLearn,Pennylane, and Pandas. \n",
        "Uncomment and execute the method **clean_install()** to execute the installation via PIP. The environment must have Python 3.6+ and PIP installed.\n"
      ]
    },
    {
      "cell_type": "code",
      "execution_count": 1,
      "id": "d551b6e5-0aaf-4e15-abc2-6346bccf06aa",
      "metadata": {
        "id": "d551b6e5-0aaf-4e15-abc2-6346bccf06aa"
      },
      "outputs": [],
      "source": [
        "import subprocess\n",
        "import sys\n",
        "    \n",
        "def pip_install(package):\n",
        "    subprocess.run([sys.executable, \"-m\", \"pip\", \"install\", package])\n",
        "\n",
        "def clean_install():\n",
        "    [pip_install(package) for package in ['sklearn', 'pennylane', 'pandas', 'qiskit', 'pennylane-qiskit']]\n",
        "\n",
        "#clean_install()"
      ]
    },
    {
      "cell_type": "code",
      "execution_count": 2,
      "id": "34db21a7",
      "metadata": {
        "id": "34db21a7"
      },
      "outputs": [],
      "source": [
        "from sklearn.model_selection import train_test_split\n",
        "from pennylane import numpy as np\n",
        "from datetime import datetime\n",
        "from qiskit import IBMQ\n",
        "import pennylane as qml\n",
        "import random as rand\n",
        "import pandas as pd\n",
        "import os as os\n",
        "import random"
      ]
    },
    {
      "cell_type": "markdown",
      "id": "3378bbe3-601b-4696-972d-48a312edf9c0",
      "metadata": {
        "id": "3378bbe3-601b-4696-972d-48a312edf9c0"
      },
      "source": [
        "## <br> <br> <br> **Introduction**\n",
        "\n",
        "\n",
        "The purpose of this Jupyter Notebook is to serve as a testbench for the quantum machine learning capstone group. This testbench allows for the testing of a quantum variational classifier with different ansatz configurations on three different datasets. Each dataset consists of instances containing a binary classification over 4 numeric features. The circuits will all exhibit rotational encoding over 4 qubits, allowing a qubit for each feature. The datasets are as follows:\n",
        "\n",
        "\n",
        "&emsp;&emsp;[Iris Dataset](https://archive.ics.uci.edu/ml/datasets/iris) ⸻ 3 classes of 150 instances of plant measures, where each class refers to a type of iris plant. This dataset will be truncated to only 2 classes.\n",
        "\n",
        "&emsp;&emsp;[Banknote Dataset](https://archive.ics.uci.edu/ml/datasets/banknote+authentication)⸻ 2 classes consisting of 1372 instances of banknote-like specimen, where each class refers to forgery or authenticate.\n",
        "\n",
        "&emsp;&emsp;[Transfusion Dataset](https://archive.ics.uci.edu/ml/datasets/Blood+Transfusion+Service+Center) ⸻ 2 classes consisting of 748 donors from the donor database, where each class refers to donation in March 2007.\n",
        "<br>"
      ]
    },
    {
      "cell_type": "markdown",
      "id": "842143aa-5513-4537-993f-d84c3a627a18",
      "metadata": {
        "id": "842143aa-5513-4537-993f-d84c3a627a18"
      },
      "source": [
        "## **Methodology**"
      ]
    },
    {
      "cell_type": "markdown",
      "id": "fafb49e2-19cf-4a55-b0eb-33b6fecca4e1",
      "metadata": {
        "id": "fafb49e2-19cf-4a55-b0eb-33b6fecca4e1"
      },
      "source": [
        "### **Independent Variables** - Variational Classifier & Circuit Constants"
      ]
    },
    {
      "cell_type": "code",
      "execution_count": 3,
      "id": "4af6a96e",
      "metadata": {
        "id": "4af6a96e"
      },
      "outputs": [],
      "source": [
        "NUM_QUBITS = 4\n",
        "NUM_LAYERS = 6\n",
        "BATCH_SIZE = 5\n",
        "STEP_SIZE = .1\n",
        "WEIGHTS_INIT = 0.01 * np.random.randn(NUM_LAYERS, NUM_QUBITS, 3, requires_grad=True)\n",
        "BIAS_INIT = np.array(0.0, requires_grad=True)\n",
        "OPTIMIZER = qml.optimize.AdamOptimizer(STEP_SIZE)\n",
        "DEV = qml.device(\"default.qubit\", wires=4)"
      ]
    },
    {
      "cell_type": "markdown",
      "id": "32724f97-c440-45f0-b1ce-7126a40eca92",
      "metadata": {
        "id": "32724f97-c440-45f0-b1ce-7126a40eca92"
      },
      "source": [
        "### **Dependent Variable** - Function Reference to Ansatz Circuit Configurations"
      ]
    },
    {
      "cell_type": "markdown",
      "id": "50473a8a-89ff-418e-9cb2-cdbd03c0b28b",
      "metadata": {
        "id": "50473a8a-89ff-418e-9cb2-cdbd03c0b28b"
      },
      "source": [
        "This global variable will serve as a function reference to a specific tested ansatz circuit configuration during test iterations. The implementation of function reference serves for increased readability in circuit configurations by encapsulating encoding techniques within a circuit configuration."
      ]
    },
    {
      "cell_type": "code",
      "execution_count": 4,
      "id": "88088b77-3338-473f-b482-936a0c4a5eca",
      "metadata": {
        "id": "88088b77-3338-473f-b482-936a0c4a5eca"
      },
      "outputs": [],
      "source": [
        "CURRENT_TEST_CIRCUIT = None"
      ]
    },
    {
      "cell_type": "markdown",
      "id": "fdf2d4af-1a01-4507-bed8-ba11f7a75045",
      "metadata": {
        "id": "fdf2d4af-1a01-4507-bed8-ba11f7a75045"
      },
      "source": [
        "### **Ansatz Circuit Configuration Library**"
      ]
    },
    {
      "cell_type": "code",
      "execution_count": 5,
      "id": "976a2f7a-3473-4c8f-90c4-61691417e634",
      "metadata": {
        "id": "976a2f7a-3473-4c8f-90c4-61691417e634"
      },
      "outputs": [],
      "source": [
        "#https://medium.com/predict/classification-using-vqc-with-custom-variational-ansatz-c7c45fb699a1\n",
        "# This is for 3 qubits, we need 4. \n",
        "#TODO Fix. Could be garbage, can throw out if not worthwhile.\n",
        "def layered_gate_circuit(params,x):\n",
        "    xEmbeded=[i*np.pi for i in x]\n",
        "    for i in range(NUM_WIRES):\n",
        "        qml.RX(xEmbeded[i],wires=i)\n",
        "        qml.Rot(*params[0,i],wires=i)\n",
        "        \n",
        "    qml.CZ(wires=[1, 0])\n",
        "    qml.CZ(wires=[1, 2])\n",
        "    qml.CZ(wires=[0, 2])\n",
        "    for i in range(NUM_WIRES):\n",
        "        qml.Rot(*params[1,i],wires=i)\n",
        "\n",
        "def alternating_operator_circuit():\n",
        "    \n",
        "    pass\n",
        "\n",
        "def tensor_network_circuit():\n",
        "    \n",
        "    pass\n",
        "        \n",
        "# https://discuss.pennylane.ai/t/qaoa-embedding-layer/1724/2\n",
        "# https://docs.pennylane.ai/en/latest/code/api/pennylane.QAOAEmbedding.html\n",
        "# TODO Implement + Optimize\n",
        "@qml.qnode(DEV)\n",
        "def qaoa_circuit(features):\n",
        "    # TODO\n",
        "    \n",
        "    return qml.expval(qml.PauliZ(0))\n",
        "\n",
        "\n",
        "# Pennylane Circuit from Quantum Variational Classifier\n",
        "@qml.qnode(DEV)\n",
        "def pennylane_circuit(weights, features):\n",
        "    rotational_encoding(features)\n",
        "\n",
        "    for W in weights:\n",
        "        qml.Rot(W[0, 0], W[0, 1], W[0, 2], wires=0)\n",
        "        qml.Rot(W[1, 0], W[1, 1], W[1, 2], wires=1)\n",
        "        qml.Rot(W[2, 0], W[2, 1], W[2, 2], wires=2)\n",
        "        qml.Rot(W[3, 0], W[3, 1], W[3, 2], wires=3)    \n",
        "        qml.CNOT(wires=[0, 1])\n",
        "        qml.CNOT(wires=[1, 2])\n",
        "        qml.CNOT(wires=[2, 3])\n",
        "        qml.CNOT(wires=[3, 0])\n",
        "\n",
        "    return qml.expval(qml.PauliZ(0))\n",
        "\n",
        "#https://quantaggle.com/algorithms/ansatz/\n",
        "@qml.qnode(DEV)\n",
        "def hardware_efficient_circuit(weights, features):\n",
        "    rotational_encoding(features)\n",
        "    \n",
        "    for W in weights[:-1]:\n",
        "        qml.RY(W[0, 0], wires=0)\n",
        "        qml.RZ(W[0, 1], wires=0)\n",
        "        qml.RY(W[1, 0], wires=0)\n",
        "        qml.RZ(W[1, 1], wires=0)\n",
        "        qml.RY(W[2, 0], wires=0)\n",
        "        qml.RZ(W[2, 1], wires=0)\n",
        "        qml.RY(W[3, 0], wires=0)\n",
        "        qml.RZ(W[3, 1], wires=0)\n",
        "        qml.CZ(wires=[0, 1])\n",
        "        qml.CZ(wires=[2, 3])\n",
        "        qml.CZ(wires=[1, 2])\n",
        "    \n",
        "    W = weights[-1]\n",
        "    qml.RY(W[0, 0], wires=0)\n",
        "    qml.RZ(W[0, 1], wires=0)\n",
        "    qml.RY(W[1, 0], wires=0)\n",
        "    qml.RZ(W[1, 1], wires=0)\n",
        "    qml.RY(W[2, 0], wires=0)\n",
        "    qml.RZ(W[2, 1], wires=0)\n",
        "    qml.RY(W[3, 0], wires=0)\n",
        "    qml.RZ(W[3, 1], wires=0)\n",
        "    \n",
        "    return qml.expval(qml.PauliZ(0))\n",
        "\n",
        "#https://pennylane.ai/qml/glossary/circuit_ansatz.html#a-parametrized-b-parametrized\n",
        "@qml.qnode(DEV)\n",
        "def pennylane_ab_paramaterized(weights, features):\n",
        "    rotational_encoding(features)\n",
        "    \n",
        "    for W in weights:\n",
        "        qml.CRot(W[0, 0], W[0, 1], W[0, 2], wires=[0, 2])\n",
        "        qml.CRot(W[1, 0], W[1, 1], W[1, 2], wires=[1, 3])\n",
        "        qml.CRot(W[2, 0], W[2, 1], W[2, 2], wires=[2, 0])\n",
        "        qml.CRot(W[3, 0], W[3, 1], W[3, 2], wires=[3, 1])\n",
        "\n",
        "    return qml.expval(qml.PauliZ(0))\n",
        "\n",
        "#https://arxiv.org/pdf/1612.02806.pdf\n",
        "@qml.qnode(DEV)\n",
        "def pairwise_controlled_rot(weights, features):\n",
        "    rotational_encoding(features)\n",
        "    \n",
        "    for W in weights:\n",
        "        qml.CRot(W[0, 0], W[0, 1], W[0, 2], wires=[0, 1])\n",
        "        qml.CRot(W[0, 0], W[0, 1], W[0, 2], wires=[0, 2])\n",
        "        qml.CRot(W[0, 0], W[0, 1], W[0, 2], wires=[0, 3])\n",
        "        \n",
        "        qml.CRot(W[1, 0], W[1, 1], W[1, 2], wires=[1, 0])\n",
        "        qml.CRot(W[1, 0], W[1, 1], W[1, 2], wires=[1, 2])\n",
        "        qml.CRot(W[1, 0], W[1, 1], W[1, 2], wires=[1, 3])\n",
        "        \n",
        "        qml.CRot(W[2, 0], W[2, 1], W[2, 2], wires=[2, 3])\n",
        "        qml.CRot(W[2, 0], W[2, 1], W[2, 2], wires=[2, 1])\n",
        "        qml.CRot(W[2, 0], W[2, 1], W[2, 2], wires=[2, 0])\n",
        "        \n",
        "        qml.CRot(W[3, 0], W[3, 1], W[3, 2], wires=[3, 2])\n",
        "        qml.CRot(W[3, 0], W[3, 1], W[3, 2], wires=[3, 1])\n",
        "        qml.CRot(W[3, 0], W[3, 1], W[3, 2], wires=[3, 0])\n",
        "    return qml.expval(qml.PauliZ(0))"
      ]
    },
    {
      "cell_type": "markdown",
      "id": "e579af31-740f-4ca4-ae82-a8fe8f095e63",
      "metadata": {
        "id": "e579af31-740f-4ca4-ae82-a8fe8f095e63"
      },
      "source": [
        "### **Quantum Variational Classifier**"
      ]
    },
    {
      "cell_type": "markdown",
      "id": "abc8ace2-673e-47cd-871b-212a3f79a7e6",
      "metadata": {
        "id": "abc8ace2-673e-47cd-871b-212a3f79a7e6"
      },
      "source": [
        "Below is the variational classifier and its supporting functions. This variational classifier model is adapted from the [pennylane variational classifier demo](https://pennylane.ai/qml/demos/tutorial_variational_classifier.html)."
      ]
    },
    {
      "cell_type": "code",
      "execution_count": 6,
      "id": "8e42d2fe",
      "metadata": {
        "id": "8e42d2fe"
      },
      "outputs": [],
      "source": [
        "def variational_classifier(weights, bias, angles):\n",
        "    return CURRENT_TEST_CIRCUIT(weights, angles) + bias\n",
        "    \n",
        "def cost(weights, bias, features, labels):\n",
        "    predictions = [variational_classifier(weights, bias, f) for f in features]\n",
        "    return square_loss(labels, predictions)"
      ]
    },
    {
      "cell_type": "code",
      "execution_count": 7,
      "id": "004d4dc0",
      "metadata": {
        "id": "004d4dc0"
      },
      "outputs": [],
      "source": [
        "def square_loss(labels, predictions):\n",
        "    loss = 0\n",
        "    for l, p in zip(labels, predictions):\n",
        "        loss = loss + (l - p) ** 2\n",
        "\n",
        "    loss = loss / len(labels)\n",
        "    return loss\n",
        "\n",
        "def accuracy(labels, predictions):\n",
        "\n",
        "    loss = 0\n",
        "    for l, p in zip(labels, predictions):\n",
        "        if abs(l - p) < 1e-5:\n",
        "            loss = loss + 1\n",
        "    loss = loss / len(labels)\n",
        "\n",
        "    return loss"
      ]
    },
    {
      "cell_type": "code",
      "execution_count": 8,
      "id": "22eda449-14ed-4b18-91f7-ba71499fe486",
      "metadata": {
        "id": "22eda449-14ed-4b18-91f7-ba71499fe486"
      },
      "outputs": [],
      "source": [
        "def time_elapsed(start_time):\n",
        "    return f'{datetime.now() - start_time}'\n",
        "    \n",
        "def format_time():\n",
        "    return datetime.now().strftime('%m/%d/%Y, %H:%M:%S')\n",
        "    "
      ]
    },
    {
      "cell_type": "code",
      "execution_count": 9,
      "id": "6b57694d",
      "metadata": {
        "id": "6b57694d"
      },
      "outputs": [],
      "source": [
        "headers = ['Epoch', 'Cost', 'Train_Accuracy', 'Test_Accuracy']\n",
        "template = '\\t\\t\\t{:<7}   {:<7}   {:<16}   {:<15}'\n",
        "\n",
        "def train_classifier(dataframes, circuit, total_iterations):\n",
        "    \n",
        "    start_time_test = datetime.now() \n",
        "    print(f\"\\nCircuit: {circuit.__name__}\")\n",
        "    \n",
        "    # Set the global for the current test circuit as a reference the relevant circuit function - Dependent Variable\n",
        "    global CURRENT_TEST_CIRCUIT\n",
        "    CURRENT_TEST_CIRCUIT = circuit\n",
        "    \n",
        "    for dataset in dataframes:\n",
        "        \n",
        "        start_time_dataset = datetime.now() \n",
        "        \n",
        "        print(f\"\\n\\tCircuit: {circuit.__name__} | Dataset: {dataset[0]}\")\n",
        "        \n",
        "        for iteration in range(total_iterations):\n",
        "        \n",
        "            # Preprocess the data and seperate into train and test sets. Initialize the weights, bias.\n",
        "            features, labels = preprocess(dataset[1])\n",
        "            X_train, X_test, y_train, y_test = train_test_split(features, labels, test_size=0.25, random_state=rand.randint(0, 100))\n",
        "            weights, bias = WEIGHTS_INIT, BIAS_INIT\n",
        "            max_cost_iteration = max_train_iteration = max_test_iteration = 0\n",
        "\n",
        "            # Print the header for the current Iteration\n",
        "            start_time_iteration = datetime.now()\n",
        "            print(f\"\\n\\t\\tIteration {iteration+1} of {total_iterations}\\n\")\n",
        "            print (template.replace(':', ':-').format('', '', '', ''))\n",
        "            print(template.format(*headers))\n",
        "            print (template.replace(':', ':-').format('', '', '', ''))\n",
        "\n",
        "            for epoch_index in range(100):\n",
        "\n",
        "                # Update the weights by one optimizer step\n",
        "                batch_index = np.random.randint(0, len(X_train), (BATCH_SIZE,))\n",
        "\n",
        "                X_train_batch = X_train[batch_index]\n",
        "                y_train_batch = y_train[batch_index]\n",
        "                weights, bias, _, _ = OPTIMIZER.step(cost, weights, bias, X_train_batch, y_train_batch)\n",
        "\n",
        "                # Compute predictions on train and validation set\n",
        "                predictions_train = [np.sign(variational_classifier(weights, bias, value)) for value in X_train]\n",
        "                predictions_test = [np.sign(variational_classifier(weights, bias, value)) for value in X_test]\n",
        "\n",
        "                # Compute accuracy on train and validation set\n",
        "                accuracy_train = accuracy(y_train, predictions_train)\n",
        "                accuracy_test = accuracy(y_test, predictions_test)\n",
        "                epoch_cost = cost(weights, bias, features, labels)\n",
        "\n",
        "                # Tabulate a summary of the current epoch\n",
        "                print(template.format(*[f'{epoch_index:4d}', f'{epoch_cost:0.3f}', f'{accuracy_train:0.7f}', f'{accuracy_test:0.7f}']))\n",
        "                max_cost_iteration = epoch_cost if epoch_cost > max_cost_iteration else max_cost_iteration\n",
        "                max_train_iteration = accuracy_train if accuracy_test > max_train_iteration else max_train_iteration\n",
        "                max_test_iteration = accuracy_test if accuracy_test > max_test_iteration else max_test_iteration\n",
        "                \n",
        "                # Break if train and test validation is 100% accuracy.\n",
        "                if accuracy_test == accuracy_train == 1:\n",
        "                    #test(weights, bias, X_train, X_test, y_train, y_test)    \n",
        "                    # Test Model on IBM Processor\n",
        "                    IBM_test(weights, bias, X_train, X_test, y_train, y_test)\n",
        "                    break\n",
        "\n",
        "            # Summarize the findings for the Circuit, Dataset, Iteration\n",
        "            print (template.replace(':', ':-').format('', '', '', ''))\n",
        "            print(template.format(*['Maxima', f'{max_cost_iteration:0.3f}', f'{max_train_iteration:0.7f}', f'{max_test_iteration:0.7f}']))\n",
        "            print (template.replace(':', ':-').format('', '', '', ''))\n",
        "            print(f\"\\t\\t\\tElapsed: {time_elapsed(start_time_iteration)}\")\n",
        "        print(f\"\\t\\tElapsed: {time_elapsed(start_time_dataset)}\")\n",
        "    print(f\"\\tElapsed: {time_elapsed(start_time_test)}\")\n"
      ]
    },
    {
      "cell_type": "markdown",
      "source": [
        "Test"
      ],
      "metadata": {
        "id": "NQL3QecqmAFW"
      },
      "id": "NQL3QecqmAFW"
    },
    {
      "cell_type": "code",
      "source": [
        "def test(weights, bias, X_train, X_test, y_train, y_test):\n",
        "    print(\"\\t\\t\\tSample Test\")\n",
        "    switch = 1\n",
        "    start_time_iteration = datetime.now()\n",
        "    if (switch == 0):\n",
        "        pairs = list(zip(X_train, y_train))\n",
        "    elif (switch == 1):\n",
        "        pairs = list(zip(X_test, y_test))\n",
        "    else:\n",
        "        print(\"Invalid choice\")\n",
        "        return\n",
        "    pairs = random.sample(pairs,10)\n",
        "    X_sample, y_sample = zip(*pairs)\n",
        "    # Use IBM's Quantum Hardware to test model using 10 randomly sampled points\n",
        "    predictions_sample = [np.sign(variational_classifier(weights, bias, value)) for value in X_sample]\n",
        "    \n",
        "    # Compute accuracy on train and validation set\n",
        "    accuracy_sample = accuracy(y_sample, predictions_sample)\n",
        "\n",
        "    # Display Accuracy Results and Time Elapsed\n",
        "    if (switch == 0):\n",
        "        headers = ['Train_Accuracy']\n",
        "    elif (switch == 1):\n",
        "        headers = ['Test_Accuracy']\n",
        "    template = '\\t\\t\\t{:<16}'\n",
        "    print(template.replace(':', ':-').format('', ''))\n",
        "    print(template.format(*headers))\n",
        "    print(template.replace(':', ':-').format('', ''))\n",
        "    print(template.format(*[f'{accuracy_sample:0.7f}']))\n",
        "    print(f\"\\t\\t\\tElapsed: {time_elapsed(start_time_iteration)}\")"
      ],
      "metadata": {
        "id": "nI4KCj_3hxq5"
      },
      "id": "nI4KCj_3hxq5",
      "execution_count": 10,
      "outputs": []
    },
    {
      "cell_type": "markdown",
      "id": "908455cc-3dde-4ec8-88f1-b32d46f6fea1",
      "metadata": {
        "id": "908455cc-3dde-4ec8-88f1-b32d46f6fea1"
      },
      "source": [
        "### **Data Preparation, Preprocessing, and Encoding**"
      ]
    },
    {
      "cell_type": "code",
      "execution_count": 11,
      "id": "053b239b",
      "metadata": {
        "id": "053b239b",
        "colab": {
          "base_uri": "https://localhost:8080/"
        },
        "outputId": "5b697352-0be9-4c86-8c38-0052ac215d6b"
      },
      "outputs": [
        {
          "output_type": "stream",
          "name": "stdout",
          "text": [
            "Drive already mounted at /content/drive/; to attempt to forcibly remount, call drive.mount(\"/content/drive/\", force_remount=True).\n"
          ]
        }
      ],
      "source": [
        "def preprocess(df):\n",
        "    df.target = df.target.map({df.target.unique()[0]: -1, df.target.unique()[1]: 1})\n",
        "   \n",
        "    if df.target.value_counts()[-1] >= 100 and df.target.value_counts()[1] >= 100: \n",
        "        df = pd.concat([\n",
        "            df[(df.target == -1)].sample(n=100, replace=False, random_state=rand.randint(0, 100)),\n",
        "            df[(df.target == 1)].sample(n=100, replace=False, random_state=rand.randint(0, 100))\n",
        "        ])\n",
        "    else:\n",
        "        df = df[(df.target == -1) | (df.target == 1)]\n",
        "    \n",
        "    X = np.array(df)[:,0:4]\n",
        "    features = 2 * np.pi * (X - np.min(X)) / (np.max(X) - np.min(X))\n",
        "    labels = np.array(df)[:,-1]\n",
        "    \n",
        "    return features, labels\n",
        "\n",
        "def rotational_encoding(x):\n",
        "    qml.Rot(x[0], x[0], x[0], wires=0)\n",
        "    qml.Rot(x[1], x[1], x[1], wires=1)\n",
        "    qml.Rot(x[2], x[2], x[2], wires=2)\n",
        "    qml.Rot(x[3], x[3], x[3], wires=3)\n",
        "    qml.CNOT(wires=[0, 1])\n",
        "    qml.CNOT(wires=[1, 2])\n",
        "    qml.CNOT(wires=[2, 3])\n",
        "    qml.CNOT(wires=[3, 0])\n",
        "    return np.array(x)\n",
        "\n",
        "#paths = ['~/Documents/QML/iris.data', '~/Documents/QML/banknote.data','~/Documents/QML/transfusion.data']\n",
        "from google.colab import drive\n",
        "drive.mount('/content/drive/')\n",
        "paths = ['/content/drive/My Drive/Colab Notebooks/data/iris.data']\n",
        "dataframes = [(os.path.splitext(os.path.basename(path))[0], pd.read_csv(path, names=['a0','a1','a2','a3', 'target'])) for path in paths]"
      ]
    },
    {
      "cell_type": "markdown",
      "source": [
        "### **IBM Test Function**"
      ],
      "metadata": {
        "id": "njEwBuGpcIBN"
      },
      "id": "njEwBuGpcIBN"
    },
    {
      "cell_type": "code",
      "source": [
        "import random\n",
        "my_token = \"ffe825886917b0d04a3d6cbd6d5d49a48a3d0eae803e4423d6ad69eded2dbb3fb42e9fa3b2c79f22d2f17602f79ffc7213cde9ae510b608d7ca22bf075f5027c\"\n",
        "IBMQ.save_account(my_token, overwrite=True)\n",
        "provider = IBMQ.load_account()\n",
        "ibm_dev = qml.device('qiskit.ibmq', wires=4, backend='ibmq_lima', shots=1000, provider=provider)\n",
        "\n",
        "@qml.qnode(ibm_dev)\n",
        "# Pennylane Implementation\n",
        "def ibm_circuit(weights, features):\n",
        "    rotational_encoding(features)\n",
        "\n",
        "    for W in weights:\n",
        "        qml.Rot(W[0, 0], W[0, 1], W[0, 2], wires=0)\n",
        "        qml.Rot(W[1, 0], W[1, 1], W[1, 2], wires=1)\n",
        "        qml.Rot(W[2, 0], W[2, 1], W[2, 2], wires=2)\n",
        "        qml.Rot(W[3, 0], W[3, 1], W[3, 2], wires=3)    \n",
        "        qml.CNOT(wires=[0, 1])\n",
        "        qml.CNOT(wires=[1, 2])\n",
        "        qml.CNOT(wires=[2, 3])\n",
        "        qml.CNOT(wires=[3, 0])\n",
        "\n",
        "    return qml.expval(qml.PauliZ(0))\n",
        "\n",
        "def ibm_variational_classifier(weights, bias, angles):\n",
        "    return ibm_circuit(weights, angles) + bias\n",
        "\n",
        "def IBM_test(weights, bias, X_train, X_test, y_train, y_test):\n",
        "\n",
        "    # 0 = sample 10 data points from train\n",
        "    # 1 = sample 10 data points from test\n",
        "    switch = 1\n",
        "\n",
        "    start_time_iteration = datetime.now()\n",
        "    print(f\"\\t\\t\\tIBM Hardware Test\\n\")\n",
        "\n",
        "    if (switch == 0):\n",
        "        pairs = list(zip(X_train, y_train))\n",
        "    elif (switch == 1):\n",
        "        pairs = list(zip(X_test, y_test))\n",
        "    else:\n",
        "        print(\"Invalid choice\")\n",
        "        return\n",
        "    \n",
        "    # Randomly sample 10 datapoints\n",
        "    pairs = random.sample(pairs,10)\n",
        "    X_sample, y_sample = zip(*pairs)\n",
        "\n",
        "    # Use IBM's Quantum Hardware to test model using 10 randomly sampled points\n",
        "    predictions_sample = [np.sign(ibm_variational_classifier(weights, bias, value)) for value in X_sample]\n",
        "    \n",
        "    # Compute accuracy on train and validation set\n",
        "    accuracy_sample = accuracy(y_sample, predictions_sample)\n",
        "\n",
        "    # Display Accuracy Results and Time Elapsed\n",
        "    if (switch == 0):\n",
        "        headers = ['Train_Accuracy']\n",
        "    elif (switch == 1):\n",
        "        headers = ['Test_Accuracy']\n",
        "    template = '\\t\\t\\t{:<16}'\n",
        "    print(template.replace(':', ':-').format('', ''))\n",
        "    print(template.format(*headers))\n",
        "    print(template.replace(':', ':-').format('', ''))\n",
        "    print(template.format(*[f'{accuracy_sample:0.7f}']))\n",
        "    print(f\"\\t\\t\\tElapsed: {time_elapsed(start_time_iteration)}\")\n",
        "    \n",
        "    # Use IBM's Quantum Hardware to test model\n",
        "    #predictions_train = [np.sign(ibm_variational_classifier(weights, bias, value)) for value in X_train]\n",
        "    #predictions_test = [np.sign(ibm_variational_classifier(weights, bias, value)) for value in X_test]\n",
        "\n",
        "    # Compute accuracy on train and validation set\n",
        "    #accuracy_train = accuracy(y_train, predictions_train)\n",
        "    #accuracy_test = accuracy(y_test, predictions_test)\n",
        "\n",
        "    # Display Accuracy Results and Time Elapsed\n",
        "    # headers = ['Train_Accuracy', 'Test_Accuracy']\n",
        "    # template = '\\t\\t\\t{:<16}   {:<15}'\n",
        "    # print (template.replace(':', ':-').format('', ''))\n",
        "    # print(template.format(*[f'{accuracy_train:0.7f}', f'{accuracy_test:0.7f}']))\n",
        "\n",
        "    # print(f\"\\t\\t\\tFT: {format_time()} | Elapsed: {time_elapsed(start_time_iteration)}\")"
      ],
      "metadata": {
        "id": "Afr_mi-DckMW"
      },
      "id": "Afr_mi-DckMW",
      "execution_count": 12,
      "outputs": []
    },
    {
      "cell_type": "markdown",
      "id": "0e8eefec-0b56-42ee-9d26-8e8796dd1612",
      "metadata": {
        "id": "0e8eefec-0b56-42ee-9d26-8e8796dd1612"
      },
      "source": [
        "### **Test Execution**"
      ]
    },
    {
      "cell_type": "code",
      "execution_count": 13,
      "id": "bc0b1fd7-cf3e-4bb9-a3d3-4fdd043fd818",
      "metadata": {
        "id": "bc0b1fd7-cf3e-4bb9-a3d3-4fdd043fd818",
        "outputId": "2dbf38c3-6554-46d5-a50c-6d8731cc6135",
        "colab": {
          "base_uri": "https://localhost:8080/",
          "height": 782
        }
      },
      "outputs": [
        {
          "output_type": "stream",
          "name": "stdout",
          "text": [
            "\n",
            "Circuit: pennylane_circuit | Start: 10/31/2022, 07:00:05\n",
            "\n",
            "\tCircuit: pennylane_circuit | Dataset: iris | Start: 10/31/2022, 07:00:05\n",
            "\n",
            "\t\tIteration 1 of 1 | Start: 10/31/2022, 07:00:05\n",
            "\n",
            "\t\t\t-------   -------   ----------------   ---------------\n",
            "\t\t\tEpoch     Cost      Train_Accuracy     Test_Accuracy  \n",
            "\t\t\t-------   -------   ----------------   ---------------\n",
            "\t\t\t   0      2.071     0.1200000          0.1600000      \n",
            "\t\t\t   1      1.496     0.4800000          0.4800000      \n",
            "\t\t\t   2      0.835     0.7066667          0.7600000      \n",
            "\t\t\t   3      0.595     0.8400000          0.8800000      \n",
            "\t\t\t   4      0.458     0.9866667          1.0000000      \n",
            "\t\t\t   5      0.388     1.0000000          1.0000000      \n",
            "\t\t\tIBM Hardware Test | Start: 10/31/2022, 07:00:48\n",
            "\n"
          ]
        },
        {
          "output_type": "stream",
          "name": "stderr",
          "text": [
            "WARNING:websocket:websocket connected\n",
            "ERROR:websocket:[Errno 104] Connection reset by peer - goodbye\n",
            "WARNING:websocket:websocket connected\n",
            "ERROR:websocket: - goodbye\n",
            "WARNING:websocket:websocket connected\n",
            "WARNING:urllib3.connectionpool:Retrying (PostForcelistRetry(total=4, connect=3, read=None, redirect=None, status=None)) after connection broken by 'ProtocolError('Connection aborted.', ConnectionResetError(104, 'Connection reset by peer'))': /api/Network/ibm-q/Groups/open/Projects/main/Jobs/635f72a21c0b4ae1c9caea58/v/1\n"
          ]
        },
        {
          "output_type": "error",
          "ename": "IBMQJobInvalidStateError",
          "evalue": "ignored",
          "traceback": [
            "\u001b[0;31m---------------------------------------------------------------------------\u001b[0m",
            "\u001b[0;31mIBMQJobInvalidStateError\u001b[0m                  Traceback (most recent call last)",
            "\u001b[0;32m<ipython-input-13-7bae644d607a>\u001b[0m in \u001b[0;36m<module>\u001b[0;34m\u001b[0m\n\u001b[1;32m      4\u001b[0m \u001b[0;31m#train_classifier(dataframes, pairwise_controlled_rot, 3)\u001b[0m\u001b[0;34m\u001b[0m\u001b[0;34m\u001b[0m\u001b[0;34m\u001b[0m\u001b[0m\n\u001b[1;32m      5\u001b[0m \u001b[0;34m\u001b[0m\u001b[0m\n\u001b[0;32m----> 6\u001b[0;31m \u001b[0mtrain_classifier\u001b[0m\u001b[0;34m(\u001b[0m\u001b[0mdataframes\u001b[0m\u001b[0;34m,\u001b[0m \u001b[0mpennylane_circuit\u001b[0m\u001b[0;34m,\u001b[0m \u001b[0;36m1\u001b[0m\u001b[0;34m)\u001b[0m\u001b[0;34m\u001b[0m\u001b[0;34m\u001b[0m\u001b[0m\n\u001b[0m",
            "\u001b[0;32m<ipython-input-9-37475d6805a9>\u001b[0m in \u001b[0;36mtrain_classifier\u001b[0;34m(dataframes, circuit, total_iterations)\u001b[0m\n\u001b[1;32m     60\u001b[0m                     \u001b[0;31m#test(weights, bias, X_train, X_test, y_train, y_test)\u001b[0m\u001b[0;34m\u001b[0m\u001b[0;34m\u001b[0m\u001b[0;34m\u001b[0m\u001b[0m\n\u001b[1;32m     61\u001b[0m                     \u001b[0;31m# Test Model on IBM Processor\u001b[0m\u001b[0;34m\u001b[0m\u001b[0;34m\u001b[0m\u001b[0;34m\u001b[0m\u001b[0m\n\u001b[0;32m---> 62\u001b[0;31m                     \u001b[0mIBM_test\u001b[0m\u001b[0;34m(\u001b[0m\u001b[0mweights\u001b[0m\u001b[0;34m,\u001b[0m \u001b[0mbias\u001b[0m\u001b[0;34m,\u001b[0m \u001b[0mX_train\u001b[0m\u001b[0;34m,\u001b[0m \u001b[0mX_test\u001b[0m\u001b[0;34m,\u001b[0m \u001b[0my_train\u001b[0m\u001b[0;34m,\u001b[0m \u001b[0my_test\u001b[0m\u001b[0;34m)\u001b[0m\u001b[0;34m\u001b[0m\u001b[0;34m\u001b[0m\u001b[0m\n\u001b[0m\u001b[1;32m     63\u001b[0m \u001b[0;34m\u001b[0m\u001b[0m\n\u001b[1;32m     64\u001b[0m             \u001b[0;31m# Summarize the findings for the Circuit, Dataset, Iteration\u001b[0m\u001b[0;34m\u001b[0m\u001b[0;34m\u001b[0m\u001b[0;34m\u001b[0m\u001b[0m\n",
            "\u001b[0;32m<ipython-input-12-13dce717b935>\u001b[0m in \u001b[0;36mIBM_test\u001b[0;34m(weights, bias, X_train, X_test, y_train, y_test)\u001b[0m\n\u001b[1;32m     47\u001b[0m \u001b[0;34m\u001b[0m\u001b[0m\n\u001b[1;32m     48\u001b[0m     \u001b[0;31m# Use IBM's Quantum Hardware to test model using 10 randomly sampled points\u001b[0m\u001b[0;34m\u001b[0m\u001b[0;34m\u001b[0m\u001b[0;34m\u001b[0m\u001b[0m\n\u001b[0;32m---> 49\u001b[0;31m     \u001b[0mpredictions_sample\u001b[0m \u001b[0;34m=\u001b[0m \u001b[0;34m[\u001b[0m\u001b[0mnp\u001b[0m\u001b[0;34m.\u001b[0m\u001b[0msign\u001b[0m\u001b[0;34m(\u001b[0m\u001b[0mibm_variational_classifier\u001b[0m\u001b[0;34m(\u001b[0m\u001b[0mweights\u001b[0m\u001b[0;34m,\u001b[0m \u001b[0mbias\u001b[0m\u001b[0;34m,\u001b[0m \u001b[0mvalue\u001b[0m\u001b[0;34m)\u001b[0m\u001b[0;34m)\u001b[0m \u001b[0;32mfor\u001b[0m \u001b[0mvalue\u001b[0m \u001b[0;32min\u001b[0m \u001b[0mX_sample\u001b[0m\u001b[0;34m]\u001b[0m\u001b[0;34m\u001b[0m\u001b[0;34m\u001b[0m\u001b[0m\n\u001b[0m\u001b[1;32m     50\u001b[0m \u001b[0;34m\u001b[0m\u001b[0m\n\u001b[1;32m     51\u001b[0m     \u001b[0;31m# Compute accuracy on train and validation set\u001b[0m\u001b[0;34m\u001b[0m\u001b[0;34m\u001b[0m\u001b[0;34m\u001b[0m\u001b[0m\n",
            "\u001b[0;32m<ipython-input-12-13dce717b935>\u001b[0m in \u001b[0;36m<listcomp>\u001b[0;34m(.0)\u001b[0m\n\u001b[1;32m     47\u001b[0m \u001b[0;34m\u001b[0m\u001b[0m\n\u001b[1;32m     48\u001b[0m     \u001b[0;31m# Use IBM's Quantum Hardware to test model using 10 randomly sampled points\u001b[0m\u001b[0;34m\u001b[0m\u001b[0;34m\u001b[0m\u001b[0;34m\u001b[0m\u001b[0m\n\u001b[0;32m---> 49\u001b[0;31m     \u001b[0mpredictions_sample\u001b[0m \u001b[0;34m=\u001b[0m \u001b[0;34m[\u001b[0m\u001b[0mnp\u001b[0m\u001b[0;34m.\u001b[0m\u001b[0msign\u001b[0m\u001b[0;34m(\u001b[0m\u001b[0mibm_variational_classifier\u001b[0m\u001b[0;34m(\u001b[0m\u001b[0mweights\u001b[0m\u001b[0;34m,\u001b[0m \u001b[0mbias\u001b[0m\u001b[0;34m,\u001b[0m \u001b[0mvalue\u001b[0m\u001b[0;34m)\u001b[0m\u001b[0;34m)\u001b[0m \u001b[0;32mfor\u001b[0m \u001b[0mvalue\u001b[0m \u001b[0;32min\u001b[0m \u001b[0mX_sample\u001b[0m\u001b[0;34m]\u001b[0m\u001b[0;34m\u001b[0m\u001b[0;34m\u001b[0m\u001b[0m\n\u001b[0m\u001b[1;32m     50\u001b[0m \u001b[0;34m\u001b[0m\u001b[0m\n\u001b[1;32m     51\u001b[0m     \u001b[0;31m# Compute accuracy on train and validation set\u001b[0m\u001b[0;34m\u001b[0m\u001b[0;34m\u001b[0m\u001b[0;34m\u001b[0m\u001b[0m\n",
            "\u001b[0;32m<ipython-input-12-13dce717b935>\u001b[0m in \u001b[0;36mibm_variational_classifier\u001b[0;34m(weights, bias, angles)\u001b[0m\n\u001b[1;32m     23\u001b[0m \u001b[0;34m\u001b[0m\u001b[0m\n\u001b[1;32m     24\u001b[0m \u001b[0;32mdef\u001b[0m \u001b[0mibm_variational_classifier\u001b[0m\u001b[0;34m(\u001b[0m\u001b[0mweights\u001b[0m\u001b[0;34m,\u001b[0m \u001b[0mbias\u001b[0m\u001b[0;34m,\u001b[0m \u001b[0mangles\u001b[0m\u001b[0;34m)\u001b[0m\u001b[0;34m:\u001b[0m\u001b[0;34m\u001b[0m\u001b[0;34m\u001b[0m\u001b[0m\n\u001b[0;32m---> 25\u001b[0;31m     \u001b[0;32mreturn\u001b[0m \u001b[0mibm_circuit\u001b[0m\u001b[0;34m(\u001b[0m\u001b[0mweights\u001b[0m\u001b[0;34m,\u001b[0m \u001b[0mangles\u001b[0m\u001b[0;34m)\u001b[0m \u001b[0;34m+\u001b[0m \u001b[0mbias\u001b[0m\u001b[0;34m\u001b[0m\u001b[0;34m\u001b[0m\u001b[0m\n\u001b[0m\u001b[1;32m     26\u001b[0m \u001b[0;34m\u001b[0m\u001b[0m\n\u001b[1;32m     27\u001b[0m \u001b[0;32mdef\u001b[0m \u001b[0mIBM_test\u001b[0m\u001b[0;34m(\u001b[0m\u001b[0mweights\u001b[0m\u001b[0;34m,\u001b[0m \u001b[0mbias\u001b[0m\u001b[0;34m,\u001b[0m \u001b[0mX_train\u001b[0m\u001b[0;34m,\u001b[0m \u001b[0mX_test\u001b[0m\u001b[0;34m,\u001b[0m \u001b[0my_train\u001b[0m\u001b[0;34m,\u001b[0m \u001b[0my_test\u001b[0m\u001b[0;34m)\u001b[0m\u001b[0;34m:\u001b[0m\u001b[0;34m\u001b[0m\u001b[0;34m\u001b[0m\u001b[0m\n",
            "\u001b[0;32m/usr/local/lib/python3.7/dist-packages/pennylane/qnode.py\u001b[0m in \u001b[0;36m__call__\u001b[0;34m(self, *args, **kwargs)\u001b[0m\n\u001b[1;32m    666\u001b[0m             \u001b[0mgradient_kwargs\u001b[0m\u001b[0;34m=\u001b[0m\u001b[0mself\u001b[0m\u001b[0;34m.\u001b[0m\u001b[0mgradient_kwargs\u001b[0m\u001b[0;34m,\u001b[0m\u001b[0;34m\u001b[0m\u001b[0;34m\u001b[0m\u001b[0m\n\u001b[1;32m    667\u001b[0m             \u001b[0moverride_shots\u001b[0m\u001b[0;34m=\u001b[0m\u001b[0moverride_shots\u001b[0m\u001b[0;34m,\u001b[0m\u001b[0;34m\u001b[0m\u001b[0;34m\u001b[0m\u001b[0m\n\u001b[0;32m--> 668\u001b[0;31m             \u001b[0;34m**\u001b[0m\u001b[0mself\u001b[0m\u001b[0;34m.\u001b[0m\u001b[0mexecute_kwargs\u001b[0m\u001b[0;34m,\u001b[0m\u001b[0;34m\u001b[0m\u001b[0;34m\u001b[0m\u001b[0m\n\u001b[0m\u001b[1;32m    669\u001b[0m         )\n\u001b[1;32m    670\u001b[0m \u001b[0;34m\u001b[0m\u001b[0m\n",
            "\u001b[0;32m/usr/local/lib/python3.7/dist-packages/pennylane/interfaces/execution.py\u001b[0m in \u001b[0;36mexecute\u001b[0;34m(tapes, device, gradient_fn, interface, mode, gradient_kwargs, cache, cachesize, max_diff, override_shots, expand_fn, max_expansion, device_batch_transform)\u001b[0m\n\u001b[1;32m    442\u001b[0m \u001b[0;34m\u001b[0m\u001b[0m\n\u001b[1;32m    443\u001b[0m     res = _execute(\n\u001b[0;32m--> 444\u001b[0;31m         \u001b[0mtapes\u001b[0m\u001b[0;34m,\u001b[0m \u001b[0mdevice\u001b[0m\u001b[0;34m,\u001b[0m \u001b[0mexecute_fn\u001b[0m\u001b[0;34m,\u001b[0m \u001b[0mgradient_fn\u001b[0m\u001b[0;34m,\u001b[0m \u001b[0mgradient_kwargs\u001b[0m\u001b[0;34m,\u001b[0m \u001b[0m_n\u001b[0m\u001b[0;34m=\u001b[0m\u001b[0;36m1\u001b[0m\u001b[0;34m,\u001b[0m \u001b[0mmax_diff\u001b[0m\u001b[0;34m=\u001b[0m\u001b[0mmax_diff\u001b[0m\u001b[0;34m,\u001b[0m \u001b[0mmode\u001b[0m\u001b[0;34m=\u001b[0m\u001b[0m_mode\u001b[0m\u001b[0;34m\u001b[0m\u001b[0;34m\u001b[0m\u001b[0m\n\u001b[0m\u001b[1;32m    445\u001b[0m     )\n\u001b[1;32m    446\u001b[0m \u001b[0;34m\u001b[0m\u001b[0m\n",
            "\u001b[0;32m/usr/local/lib/python3.7/dist-packages/pennylane/interfaces/autograd.py\u001b[0m in \u001b[0;36mexecute\u001b[0;34m(tapes, device, execute_fn, gradient_fn, gradient_kwargs, _n, max_diff, mode)\u001b[0m\n\u001b[1;32m     72\u001b[0m         \u001b[0mgradient_kwargs\u001b[0m\u001b[0;34m=\u001b[0m\u001b[0mgradient_kwargs\u001b[0m\u001b[0;34m,\u001b[0m\u001b[0;34m\u001b[0m\u001b[0;34m\u001b[0m\u001b[0m\n\u001b[1;32m     73\u001b[0m         \u001b[0m_n\u001b[0m\u001b[0;34m=\u001b[0m\u001b[0m_n\u001b[0m\u001b[0;34m,\u001b[0m\u001b[0;34m\u001b[0m\u001b[0;34m\u001b[0m\u001b[0m\n\u001b[0;32m---> 74\u001b[0;31m         \u001b[0mmax_diff\u001b[0m\u001b[0;34m=\u001b[0m\u001b[0mmax_diff\u001b[0m\u001b[0;34m,\u001b[0m\u001b[0;34m\u001b[0m\u001b[0;34m\u001b[0m\u001b[0m\n\u001b[0m\u001b[1;32m     75\u001b[0m     )[0]\n\u001b[1;32m     76\u001b[0m \u001b[0;34m\u001b[0m\u001b[0m\n",
            "\u001b[0;32m/usr/local/lib/python3.7/dist-packages/autograd/tracer.py\u001b[0m in \u001b[0;36mf_wrapped\u001b[0;34m(*args, **kwargs)\u001b[0m\n\u001b[1;32m     46\u001b[0m             \u001b[0;32mreturn\u001b[0m \u001b[0mnew_box\u001b[0m\u001b[0;34m(\u001b[0m\u001b[0mans\u001b[0m\u001b[0;34m,\u001b[0m \u001b[0mtrace\u001b[0m\u001b[0;34m,\u001b[0m \u001b[0mnode\u001b[0m\u001b[0;34m)\u001b[0m\u001b[0;34m\u001b[0m\u001b[0;34m\u001b[0m\u001b[0m\n\u001b[1;32m     47\u001b[0m         \u001b[0;32melse\u001b[0m\u001b[0;34m:\u001b[0m\u001b[0;34m\u001b[0m\u001b[0;34m\u001b[0m\u001b[0m\n\u001b[0;32m---> 48\u001b[0;31m             \u001b[0;32mreturn\u001b[0m \u001b[0mf_raw\u001b[0m\u001b[0;34m(\u001b[0m\u001b[0;34m*\u001b[0m\u001b[0margs\u001b[0m\u001b[0;34m,\u001b[0m \u001b[0;34m**\u001b[0m\u001b[0mkwargs\u001b[0m\u001b[0;34m)\u001b[0m\u001b[0;34m\u001b[0m\u001b[0;34m\u001b[0m\u001b[0m\n\u001b[0m\u001b[1;32m     49\u001b[0m     \u001b[0mf_wrapped\u001b[0m\u001b[0;34m.\u001b[0m\u001b[0mfun\u001b[0m \u001b[0;34m=\u001b[0m \u001b[0mf_raw\u001b[0m\u001b[0;34m\u001b[0m\u001b[0;34m\u001b[0m\u001b[0m\n\u001b[1;32m     50\u001b[0m     \u001b[0mf_wrapped\u001b[0m\u001b[0;34m.\u001b[0m\u001b[0m_is_autograd_primitive\u001b[0m \u001b[0;34m=\u001b[0m \u001b[0;32mTrue\u001b[0m\u001b[0;34m\u001b[0m\u001b[0;34m\u001b[0m\u001b[0m\n",
            "\u001b[0;32m/usr/local/lib/python3.7/dist-packages/pennylane/interfaces/autograd.py\u001b[0m in \u001b[0;36m_execute\u001b[0;34m(parameters, tapes, device, execute_fn, gradient_fn, gradient_kwargs, _n, max_diff)\u001b[0m\n\u001b[1;32m    108\u001b[0m     \"\"\"\n\u001b[1;32m    109\u001b[0m     \u001b[0;32mwith\u001b[0m \u001b[0mqml\u001b[0m\u001b[0;34m.\u001b[0m\u001b[0mtape\u001b[0m\u001b[0;34m.\u001b[0m\u001b[0mUnwrap\u001b[0m\u001b[0;34m(\u001b[0m\u001b[0;34m*\u001b[0m\u001b[0mtapes\u001b[0m\u001b[0;34m)\u001b[0m\u001b[0;34m:\u001b[0m\u001b[0;34m\u001b[0m\u001b[0;34m\u001b[0m\u001b[0m\n\u001b[0;32m--> 110\u001b[0;31m         \u001b[0mres\u001b[0m\u001b[0;34m,\u001b[0m \u001b[0mjacs\u001b[0m \u001b[0;34m=\u001b[0m \u001b[0mexecute_fn\u001b[0m\u001b[0;34m(\u001b[0m\u001b[0mtapes\u001b[0m\u001b[0;34m,\u001b[0m \u001b[0;34m**\u001b[0m\u001b[0mgradient_kwargs\u001b[0m\u001b[0;34m)\u001b[0m\u001b[0;34m\u001b[0m\u001b[0;34m\u001b[0m\u001b[0m\n\u001b[0m\u001b[1;32m    111\u001b[0m \u001b[0;34m\u001b[0m\u001b[0m\n\u001b[1;32m    112\u001b[0m     \u001b[0;32mfor\u001b[0m \u001b[0mi\u001b[0m\u001b[0;34m,\u001b[0m \u001b[0mr\u001b[0m \u001b[0;32min\u001b[0m \u001b[0menumerate\u001b[0m\u001b[0;34m(\u001b[0m\u001b[0mres\u001b[0m\u001b[0;34m)\u001b[0m\u001b[0;34m:\u001b[0m\u001b[0;34m\u001b[0m\u001b[0;34m\u001b[0m\u001b[0m\n",
            "\u001b[0;32m/usr/local/lib/python3.7/dist-packages/pennylane/interfaces/execution.py\u001b[0m in \u001b[0;36mwrapper\u001b[0;34m(tapes, **kwargs)\u001b[0m\n\u001b[1;32m    195\u001b[0m         \u001b[0;32melse\u001b[0m\u001b[0;34m:\u001b[0m\u001b[0;34m\u001b[0m\u001b[0;34m\u001b[0m\u001b[0m\n\u001b[1;32m    196\u001b[0m             \u001b[0;31m# execute all unique tapes that do not exist in the cache\u001b[0m\u001b[0;34m\u001b[0m\u001b[0;34m\u001b[0m\u001b[0;34m\u001b[0m\u001b[0m\n\u001b[0;32m--> 197\u001b[0;31m             \u001b[0mres\u001b[0m \u001b[0;34m=\u001b[0m \u001b[0mfn\u001b[0m\u001b[0;34m(\u001b[0m\u001b[0mexecution_tapes\u001b[0m\u001b[0;34m.\u001b[0m\u001b[0mvalues\u001b[0m\u001b[0;34m(\u001b[0m\u001b[0;34m)\u001b[0m\u001b[0;34m,\u001b[0m \u001b[0;34m**\u001b[0m\u001b[0mkwargs\u001b[0m\u001b[0;34m)\u001b[0m\u001b[0;34m\u001b[0m\u001b[0;34m\u001b[0m\u001b[0m\n\u001b[0m\u001b[1;32m    198\u001b[0m \u001b[0;34m\u001b[0m\u001b[0m\n\u001b[1;32m    199\u001b[0m         \u001b[0mfinal_res\u001b[0m \u001b[0;34m=\u001b[0m \u001b[0;34m[\u001b[0m\u001b[0;34m]\u001b[0m\u001b[0;34m\u001b[0m\u001b[0;34m\u001b[0m\u001b[0m\n",
            "\u001b[0;32m/usr/local/lib/python3.7/dist-packages/pennylane/interfaces/execution.py\u001b[0m in \u001b[0;36mfn\u001b[0;34m(tapes, **kwargs)\u001b[0m\n\u001b[1;32m    120\u001b[0m         \u001b[0;32mdef\u001b[0m \u001b[0mfn\u001b[0m\u001b[0;34m(\u001b[0m\u001b[0mtapes\u001b[0m\u001b[0;34m,\u001b[0m \u001b[0;34m**\u001b[0m\u001b[0mkwargs\u001b[0m\u001b[0;34m)\u001b[0m\u001b[0;34m:\u001b[0m  \u001b[0;31m# pylint: disable=function-redefined\u001b[0m\u001b[0;34m\u001b[0m\u001b[0;34m\u001b[0m\u001b[0m\n\u001b[1;32m    121\u001b[0m             \u001b[0mtapes\u001b[0m \u001b[0;34m=\u001b[0m \u001b[0;34m[\u001b[0m\u001b[0mexpand_fn\u001b[0m\u001b[0;34m(\u001b[0m\u001b[0mtape\u001b[0m\u001b[0;34m)\u001b[0m \u001b[0;32mfor\u001b[0m \u001b[0mtape\u001b[0m \u001b[0;32min\u001b[0m \u001b[0mtapes\u001b[0m\u001b[0;34m]\u001b[0m\u001b[0;34m\u001b[0m\u001b[0;34m\u001b[0m\u001b[0m\n\u001b[0;32m--> 122\u001b[0;31m             \u001b[0;32mreturn\u001b[0m \u001b[0moriginal_fn\u001b[0m\u001b[0;34m(\u001b[0m\u001b[0mtapes\u001b[0m\u001b[0;34m,\u001b[0m \u001b[0;34m**\u001b[0m\u001b[0mkwargs\u001b[0m\u001b[0;34m)\u001b[0m\u001b[0;34m\u001b[0m\u001b[0;34m\u001b[0m\u001b[0m\n\u001b[0m\u001b[1;32m    123\u001b[0m \u001b[0;34m\u001b[0m\u001b[0m\n\u001b[1;32m    124\u001b[0m     \u001b[0;34m@\u001b[0m\u001b[0mwraps\u001b[0m\u001b[0;34m(\u001b[0m\u001b[0mfn\u001b[0m\u001b[0;34m)\u001b[0m\u001b[0;34m\u001b[0m\u001b[0;34m\u001b[0m\u001b[0m\n",
            "\u001b[0;32m/usr/lib/python3.7/contextlib.py\u001b[0m in \u001b[0;36minner\u001b[0;34m(*args, **kwds)\u001b[0m\n\u001b[1;32m     72\u001b[0m         \u001b[0;32mdef\u001b[0m \u001b[0minner\u001b[0m\u001b[0;34m(\u001b[0m\u001b[0;34m*\u001b[0m\u001b[0margs\u001b[0m\u001b[0;34m,\u001b[0m \u001b[0;34m**\u001b[0m\u001b[0mkwds\u001b[0m\u001b[0;34m)\u001b[0m\u001b[0;34m:\u001b[0m\u001b[0;34m\u001b[0m\u001b[0;34m\u001b[0m\u001b[0m\n\u001b[1;32m     73\u001b[0m             \u001b[0;32mwith\u001b[0m \u001b[0mself\u001b[0m\u001b[0;34m.\u001b[0m\u001b[0m_recreate_cm\u001b[0m\u001b[0;34m(\u001b[0m\u001b[0;34m)\u001b[0m\u001b[0;34m:\u001b[0m\u001b[0;34m\u001b[0m\u001b[0;34m\u001b[0m\u001b[0m\n\u001b[0;32m---> 74\u001b[0;31m                 \u001b[0;32mreturn\u001b[0m \u001b[0mfunc\u001b[0m\u001b[0;34m(\u001b[0m\u001b[0;34m*\u001b[0m\u001b[0margs\u001b[0m\u001b[0;34m,\u001b[0m \u001b[0;34m**\u001b[0m\u001b[0mkwds\u001b[0m\u001b[0;34m)\u001b[0m\u001b[0;34m\u001b[0m\u001b[0;34m\u001b[0m\u001b[0m\n\u001b[0m\u001b[1;32m     75\u001b[0m         \u001b[0;32mreturn\u001b[0m \u001b[0minner\u001b[0m\u001b[0;34m\u001b[0m\u001b[0;34m\u001b[0m\u001b[0m\n\u001b[1;32m     76\u001b[0m \u001b[0;34m\u001b[0m\u001b[0m\n",
            "\u001b[0;32m/usr/local/lib/python3.7/dist-packages/pennylane_qiskit/ibmq.py\u001b[0m in \u001b[0;36mbatch_execute\u001b[0;34m(self, circuits)\u001b[0m\n\u001b[1;32m     76\u001b[0m \u001b[0;34m\u001b[0m\u001b[0m\n\u001b[1;32m     77\u001b[0m     \u001b[0;32mdef\u001b[0m \u001b[0mbatch_execute\u001b[0m\u001b[0;34m(\u001b[0m\u001b[0mself\u001b[0m\u001b[0;34m,\u001b[0m \u001b[0mcircuits\u001b[0m\u001b[0;34m)\u001b[0m\u001b[0;34m:\u001b[0m  \u001b[0;31m# pragma: no cover\u001b[0m\u001b[0;34m\u001b[0m\u001b[0;34m\u001b[0m\u001b[0m\n\u001b[0;32m---> 78\u001b[0;31m         \u001b[0mres\u001b[0m \u001b[0;34m=\u001b[0m \u001b[0msuper\u001b[0m\u001b[0;34m(\u001b[0m\u001b[0;34m)\u001b[0m\u001b[0;34m.\u001b[0m\u001b[0mbatch_execute\u001b[0m\u001b[0;34m(\u001b[0m\u001b[0mcircuits\u001b[0m\u001b[0;34m)\u001b[0m\u001b[0;34m\u001b[0m\u001b[0;34m\u001b[0m\u001b[0m\n\u001b[0m\u001b[1;32m     79\u001b[0m         \u001b[0;32mif\u001b[0m \u001b[0mself\u001b[0m\u001b[0;34m.\u001b[0m\u001b[0mtracker\u001b[0m\u001b[0;34m.\u001b[0m\u001b[0mactive\u001b[0m\u001b[0;34m:\u001b[0m\u001b[0;34m\u001b[0m\u001b[0;34m\u001b[0m\u001b[0m\n\u001b[1;32m     80\u001b[0m             \u001b[0mself\u001b[0m\u001b[0;34m.\u001b[0m\u001b[0m_track_run\u001b[0m\u001b[0;34m(\u001b[0m\u001b[0;34m)\u001b[0m\u001b[0;34m\u001b[0m\u001b[0;34m\u001b[0m\u001b[0m\n",
            "\u001b[0;32m/usr/local/lib/python3.7/dist-packages/pennylane_qiskit/qiskit_device.py\u001b[0m in \u001b[0;36mbatch_execute\u001b[0;34m(self, circuits)\u001b[0m\n\u001b[1;32m    446\u001b[0m         \u001b[0;31m# Send the batch of circuit objects using backend.run\u001b[0m\u001b[0;34m\u001b[0m\u001b[0;34m\u001b[0m\u001b[0;34m\u001b[0m\u001b[0m\n\u001b[1;32m    447\u001b[0m         \u001b[0mself\u001b[0m\u001b[0;34m.\u001b[0m\u001b[0m_current_job\u001b[0m \u001b[0;34m=\u001b[0m \u001b[0mself\u001b[0m\u001b[0;34m.\u001b[0m\u001b[0mbackend\u001b[0m\u001b[0;34m.\u001b[0m\u001b[0mrun\u001b[0m\u001b[0;34m(\u001b[0m\u001b[0mcompiled_circuits\u001b[0m\u001b[0;34m,\u001b[0m \u001b[0mshots\u001b[0m\u001b[0;34m=\u001b[0m\u001b[0mself\u001b[0m\u001b[0;34m.\u001b[0m\u001b[0mshots\u001b[0m\u001b[0;34m,\u001b[0m \u001b[0;34m**\u001b[0m\u001b[0mself\u001b[0m\u001b[0;34m.\u001b[0m\u001b[0mrun_args\u001b[0m\u001b[0;34m)\u001b[0m\u001b[0;34m\u001b[0m\u001b[0;34m\u001b[0m\u001b[0m\n\u001b[0;32m--> 448\u001b[0;31m         \u001b[0mresult\u001b[0m \u001b[0;34m=\u001b[0m \u001b[0mself\u001b[0m\u001b[0;34m.\u001b[0m\u001b[0m_current_job\u001b[0m\u001b[0;34m.\u001b[0m\u001b[0mresult\u001b[0m\u001b[0;34m(\u001b[0m\u001b[0;34m)\u001b[0m\u001b[0;34m\u001b[0m\u001b[0;34m\u001b[0m\u001b[0m\n\u001b[0m\u001b[1;32m    449\u001b[0m \u001b[0;34m\u001b[0m\u001b[0m\n\u001b[1;32m    450\u001b[0m         \u001b[0;31m# Compute statistics using the state and/or samples\u001b[0m\u001b[0;34m\u001b[0m\u001b[0;34m\u001b[0m\u001b[0;34m\u001b[0m\u001b[0m\n",
            "\u001b[0;32m/usr/local/lib/python3.7/dist-packages/qiskit/providers/ibmq/job/ibmqjob.py\u001b[0m in \u001b[0;36mresult\u001b[0;34m(self, timeout, wait, partial, refresh)\u001b[0m\n\u001b[1;32m    278\u001b[0m             \u001b[0;32mif\u001b[0m \u001b[0mself\u001b[0m\u001b[0;34m.\u001b[0m\u001b[0m_status\u001b[0m \u001b[0;32mis\u001b[0m \u001b[0mJobStatus\u001b[0m\u001b[0;34m.\u001b[0m\u001b[0mCANCELLED\u001b[0m\u001b[0;34m:\u001b[0m\u001b[0;34m\u001b[0m\u001b[0;34m\u001b[0m\u001b[0m\n\u001b[1;32m    279\u001b[0m                 raise IBMQJobInvalidStateError('Unable to retrieve result for job {}. '\n\u001b[0;32m--> 280\u001b[0;31m                                                'Job was cancelled.'.format(self.job_id()))\n\u001b[0m\u001b[1;32m    281\u001b[0m             \u001b[0;31m# Job failed.\u001b[0m\u001b[0;34m\u001b[0m\u001b[0;34m\u001b[0m\u001b[0;34m\u001b[0m\u001b[0m\n\u001b[1;32m    282\u001b[0m             \u001b[0;32mif\u001b[0m \u001b[0mpartial\u001b[0m\u001b[0;34m:\u001b[0m\u001b[0;34m\u001b[0m\u001b[0;34m\u001b[0m\u001b[0m\n",
            "\u001b[0;31mIBMQJobInvalidStateError\u001b[0m: 'Unable to retrieve result for job 635f72a21c0b4ae1c9caea58. Job was cancelled.'"
          ]
        }
      ],
      "source": [
        "#train_classifier(dataframes, pennylane_circuit, 3)\n",
        "#train_classifier(dataframes, hardware_efficient_circuit, 3)\n",
        "#train_classifier(dataframes, pennylane_ab_paramaterized, 3)\n",
        "#train_classifier(dataframes, pairwise_controlled_rot, 3)\n",
        "\n",
        "train_classifier(dataframes, pennylane_circuit, 1)\n"
      ]
    },
    {
      "cell_type": "markdown",
      "id": "e885420b-28e8-4914-a75d-dfae63c556ab",
      "metadata": {
        "id": "e885420b-28e8-4914-a75d-dfae63c556ab"
      },
      "source": [
        "## **Results**\n",
        "this is tables and stuff\n",
        "e.g. FIGURE 1\n"
      ]
    },
    {
      "cell_type": "markdown",
      "id": "7f35b8ad-c764-4212-a574-0dcd6f68ee15",
      "metadata": {
        "id": "7f35b8ad-c764-4212-a574-0dcd6f68ee15"
      },
      "source": [
        "## **Discussion**\n",
        "Talk about FIGURE 1"
      ]
    },
    {
      "cell_type": "markdown",
      "id": "e67ae21b-a97c-436f-8bc4-ad0d0039d4a5",
      "metadata": {
        "id": "e67ae21b-a97c-436f-8bc4-ad0d0039d4a5"
      },
      "source": [
        "## **Conclusion**\n",
        "TLDR of the discussion, future applications"
      ]
    }
  ],
  "metadata": {
    "kernelspec": {
      "display_name": "Python 3 (ipykernel)",
      "language": "python",
      "name": "python3"
    },
    "language_info": {
      "codemirror_mode": {
        "name": "ipython",
        "version": 3
      },
      "file_extension": ".py",
      "mimetype": "text/x-python",
      "name": "python",
      "nbconvert_exporter": "python",
      "pygments_lexer": "ipython3",
      "version": "3.10.7"
    },
    "colab": {
      "provenance": [],
      "collapsed_sections": [],
      "history_visible": true
    }
  },
  "nbformat": 4,
  "nbformat_minor": 5
}