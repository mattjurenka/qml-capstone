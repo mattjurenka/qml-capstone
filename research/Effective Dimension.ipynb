{
 "cells": [
  {
   "cell_type": "code",
   "execution_count": 1,
   "id": "afbbbb1b",
   "metadata": {},
   "outputs": [],
   "source": [
    "from sklearn.model_selection import train_test_split\n",
    "from tqdm.notebook import tqdm_notebook\n",
    "from pennylane import numpy as np\n",
    "import qiskit\n",
    "import pennylane as qml\n",
    "import random as rand\n",
    "import time as time\n",
    "import pandas as pd\n",
    "import os as os\n",
    "from qiskit import Aer\n",
    "from qiskit.utils import QuantumInstance\n",
    "from qiskit_machine_learning.neural_networks import EffectiveDimension, LocalEffectiveDimension\n",
    "from qiskit_machine_learning.neural_networks import CircuitQNN, TwoLayerQNN\n",
    "from qiskit.circuit.library import ZFeatureMap, ZZFeatureMap, RealAmplitudes\n",
    "from typing import Optional, Union, List, Callable\n",
    "from scipy.special import logsumexp\n",
    "\n",
    "\n",
    "from platform import python_version"
   ]
  },
  {
   "cell_type": "code",
   "execution_count": 2,
   "id": "e1d3021a",
   "metadata": {},
   "outputs": [],
   "source": [
    "NUM_QUBITS = 4\n",
    "NUM_LAYERS = 6\n",
    "WEIGHTS_INIT = 0.01 * np.random.randn(NUM_LAYERS, NUM_QUBITS + 1, 3, requires_grad=True)\n",
    "n_wires = 4\n",
    "layers = 4\n",
    "dev = qml.device('default.qubit', wires=4)\n",
    "paths = ['iris.data', 'banknote.data']\n",
    "DATAFRAMES = [((os.path.splitext(os.path.basename(path))[0]).capitalize(), pd.read_csv(\n",
    "    path, names=['a0', 'a1', 'a2', 'aNUM_ITERATIONS', 'target'], header = 0)) for path in paths]\n",
    "\n"
   ]
  },
  {
   "cell_type": "code",
   "execution_count": 3,
   "id": "3615f35b",
   "metadata": {},
   "outputs": [],
   "source": [
    "H = 1.*qml.PauliX(0) @ qml.PauliX(1) - 0.5 * qml.PauliZ(1)\n",
    "@qml.qnode(dev)\n",
    "def pennylane_circuit(weights, features):\n",
    "\n",
    "    qml.AngleEmbedding(features=features, wires=range(4), rotation='Z')\n",
    "    for W in weights:\n",
    "        qml.Rot(W[0, 0], W[0, 1], W[0, 2], wires=0)\n",
    "        qml.Rot(W[1, 0], W[1, 1], W[1, 2], wires=1)\n",
    "        qml.Rot(W[2, 0], W[2, 1], W[2, 2], wires=2)\n",
    "        qml.Rot(W[3, 0], W[3, 1], W[3, 2], wires=3)\n",
    "        qml.CNOT(wires=[0, 1])\n",
    "        qml.CNOT(wires=[1, 2])\n",
    "        qml.CNOT(wires=[2, 3])\n",
    "        qml.CNOT(wires=[3, 0])\n",
    "    return qml.expval(qml.PauliZ(0))"
   ]
  },
  {
   "cell_type": "code",
   "execution_count": 4,
   "id": "991937fb",
   "metadata": {},
   "outputs": [],
   "source": [
    "@qml.qnode(dev)\n",
    "def hardware_efficient_circuit(weights, features):\n",
    "    qml.AngleEmbedding(features=features, wires=range(4), rotation='Z')\n",
    "\n",
    "    for W in weights[:-1]:\n",
    "        qml.RY(W[0, 0], wires=0)\n",
    "        qml.RZ(W[0, 1], wires=0)\n",
    "        qml.RY(W[1, 0], wires=0)\n",
    "        qml.RZ(W[1, 1], wires=0)\n",
    "        qml.RY(W[2, 0], wires=0)\n",
    "        qml.RZ(W[2, 1], wires=0)\n",
    "        qml.RY(W[3, 0], wires=0)\n",
    "        qml.RZ(W[3, 1], wires=0)\n",
    "        qml.CZ(wires=[0, 1])\n",
    "        qml.CZ(wires=[2, 3])\n",
    "        qml.CZ(wires=[1, 2])\n",
    "\n",
    "    W = weights[-1]\n",
    "    qml.RY(W[0, 0], wires=0)\n",
    "    qml.RZ(W[0, 1], wires=0)\n",
    "    qml.RY(W[1, 0], wires=0)\n",
    "    qml.RZ(W[1, 1], wires=0)\n",
    "    qml.RY(W[2, 0], wires=0)\n",
    "    qml.RZ(W[2, 1], wires=0)\n",
    "    qml.RY(W[3, 0], wires=0)\n",
    "    qml.RZ(W[3, 1], wires=0)\n",
    "\n",
    "    return qml.expval(qml.PauliZ(0))"
   ]
  },
  {
   "cell_type": "code",
   "execution_count": null,
   "id": "c8c1d379",
   "metadata": {},
   "outputs": [],
   "source": []
  },
  {
   "cell_type": "code",
   "execution_count": 5,
   "id": "8fb5d67f",
   "metadata": {},
   "outputs": [],
   "source": [
    "@qml.qnode(dev)\n",
    "def pennylane_ab_parameterized_circuit(weights, features):\n",
    "    qml.AngleEmbedding(features=features, wires=range(4), rotation='Z')\n",
    "\n",
    "    for W in weights:\n",
    "        qml.CRot(W[0, 0], W[0, 1], W[0, 2], wires=[0, 2])\n",
    "        qml.CRot(W[1, 0], W[1, 1], W[1, 2], wires=[1, 3])\n",
    "        qml.CRot(W[2, 0], W[2, 1], W[2, 2], wires=[2, 0])\n",
    "        qml.CRot(W[3, 0], W[3, 1], W[3, 2], wires=[3, 1])\n",
    "\n",
    "    return qml.expval(qml.PauliZ(0))"
   ]
  },
  {
   "cell_type": "code",
   "execution_count": 6,
   "id": "356a5187",
   "metadata": {},
   "outputs": [],
   "source": [
    "@qml.qnode(dev)\n",
    "def pairwise_controlled_rot_circuit(weights, features):\n",
    "    qml.AngleEmbedding(features=features, wires=range(4), rotation='Z')\n",
    "\n",
    "    for W in weights:\n",
    "        qml.CRot(W[0, 0], W[0, 1], W[0, 2], wires=[0, 1])\n",
    "        qml.CRot(W[0, 0], W[0, 1], W[0, 2], wires=[0, 2])\n",
    "        qml.CRot(W[0, 0], W[0, 1], W[0, 2], wires=[0, 3])\n",
    "\n",
    "        qml.CRot(W[1, 0], W[1, 1], W[1, 2], wires=[1, 0])\n",
    "        qml.CRot(W[1, 0], W[1, 1], W[1, 2], wires=[1, 2])\n",
    "        qml.CRot(W[1, 0], W[1, 1], W[1, 2], wires=[1, 3])\n",
    "\n",
    "        qml.CRot(W[2, 0], W[2, 1], W[2, 2], wires=[2, 3])\n",
    "        qml.CRot(W[2, 0], W[2, 1], W[2, 2], wires=[2, 1])\n",
    "        qml.CRot(W[2, 0], W[2, 1], W[2, 2], wires=[2, 0])\n",
    "\n",
    "        qml.CRot(W[3, 0], W[3, 1], W[3, 2], wires=[3, 2])\n",
    "        qml.CRot(W[3, 0], W[3, 1], W[3, 2], wires=[3, 1])\n",
    "        qml.CRot(W[3, 0], W[3, 1], W[3, 2], wires=[3, 0])\n",
    "\n",
    "    return qml.expval(qml.PauliZ(0))\n"
   ]
  },
  {
   "cell_type": "code",
   "execution_count": 7,
   "id": "9779a8f9",
   "metadata": {},
   "outputs": [
    {
     "name": "stderr",
     "output_type": "stream",
     "text": [
      "C:\\Users\\Carson\\anaconda3\\lib\\site-packages\\autograd\\numpy\\numpy_wrapper.py:77: VisibleDeprecationWarning: Creating an ndarray from ragged nested sequences (which is a list-or-tuple of lists-or-tuples-or ndarrays with different lengths or shapes) is deprecated. If you meant to do this, you must specify 'dtype=object' when creating the ndarray.\n",
      "  return _np.array(args, *array_args, **array_kwargs)\n"
     ]
    }
   ],
   "source": [
    "iris2 = np.array([[5.1,3.5,1.4],\n",
    "[4.9,3.0,1.4,0.2],\n",
    "[4.7,3.2,1.3,0.2],\n",
    "[4.6,3.1,1.5,0.2],\n",
    "[5.0,3.6,1.4,0.2],\n",
    "[5.4,3.9,1.7,0.4],\n",
    "[4.6,3.4,1.4,0.3],\n",
    "[5.0,3.4,1.5,0.2],\n",
    "[4.4,2.9,1.4,0.2],\n",
    "[4.9,3.1,1.5,0.1],\n",
    "[5.4,3.7,1.5,0.2],\n",
    "[4.8,3.4,1.6,0.2],\n",
    "[4.8,3.0,1.4,0.1],\n",
    "[4.3,3.0,1.1,0.1],\n",
    "[5.8,4.0,1.2,0.2],\n",
    "[5.7,4.4,1.5,0.4],\n",
    "[5.4,3.9,1.3,0.4],\n",
    "[5.1,3.5,1.4,0.3],\n",
    "[5.7,3.8,1.7,0.3],\n",
    "[5.1,3.8,1.5,0.3],\n",
    "[5.4,3.4,1.7,0.2],\n",
    "[5.1,3.7,1.5,0.4],\n",
    "[4.6,3.6,1.0,0.2],\n",
    "[5.1,3.3,1.7,0.5],\n",
    "[4.8,3.4,1.9,0.2],\n",
    "[5.0,3.0,1.6,0.2],\n",
    "[5.0,3.4,1.6,0.4],\n",
    "[5.2,3.5,1.5,0.2],\n",
    "[5.2,3.4,1.4,0.2],\n",
    "[4.7,3.2,1.6,0.2],\n",
    "[4.8,3.1,1.6,0.2],\n",
    "[5.4,3.4,1.5,0.4],\n",
    "[5.2,4.1,1.5,0.1],\n",
    "[5.5,4.2,1.4,0.2],\n",
    "[4.9,3.1,1.5,0.1],\n",
    "[5.0,3.2,1.2,0.2],\n",
    "[5.5,3.5,1.3,0.2],\n",
    "[4.9,3.1,1.5,0.1],\n",
    "[4.4,3.0,1.3,0.2],\n",
    "[5.1,3.4,1.5,0.2],\n",
    "[5.0,3.5,1.3,0.3],\n",
    "[4.5,2.3,1.3,0.3],\n",
    "[4.4,3.2,1.3,0.2],\n",
    "[7.0,3.2,4.7,1.4],\n",
    "[6.4,3.2,4.5,1.5],\n",
    "[6.9,3.1,4.9,1.5],\n",
    "[5.5,2.3,4.0,1.3],\n",
    "[6.5,2.8,4.6,1.5],\n",
    "[5.7,2.8,4.5,1.3],\n",
    "[6.3,3.3,4.7,1.6],\n",
    "[4.9,2.4,3.3,1.0],\n",
    "[6.6,2.9,4.6,1.3],\n",
    "[5.2,2.7,3.9,1.4],\n",
    "[5.0,2.0,3.5,1.0],\n",
    "[5.9,3.0,4.2,1.5],\n",
    "[6.0,2.2,4.0,1.0]])"
   ]
  },
  {
   "cell_type": "code",
   "execution_count": 8,
   "id": "da00fcf1",
   "metadata": {},
   "outputs": [],
   "source": [
    "#Test circuit\n",
    "@qml.qnode(dev)\n",
    "def circ(params):\n",
    "    qml.RY(params[0], wires=1)\n",
    "    qml.CNOT(wires=(1,0))\n",
    "    qml.RY(params[1], wires=1)\n",
    "    qml.RZ(params[2], wires=1)\n",
    "    return qml.expval(qml.PauliZ(0))\n",
    "\n",
    "params = np.array([[5.1,3.5,1.4],[4.9,3.0,1.4],[4.7,3.2,1.3],[5.1,3.5,1.4],[4.9,3.0,1.4],[4.7,3.2,1.3],[4.9,3.1,1.5]], requires_grad=True)"
   ]
  },
  {
   "cell_type": "code",
   "execution_count": 9,
   "id": "1b01a527",
   "metadata": {},
   "outputs": [],
   "source": [
    "circuit_lib = [circ]#, pennylane_circuit]#, hardware_efficient_circuit,\n",
    "                    #pennylane_ab_parameterized_circuit, pairwise_controlled_rot_circuit]"
   ]
  },
  {
   "cell_type": "code",
   "execution_count": 10,
   "id": "28246828",
   "metadata": {},
   "outputs": [],
   "source": [
    "def get_eff_dim(\n",
    "        n: Union[List, int]\n",
    "    ) -> Union[List[int], int]:    \n",
    "    f_hat, trace = get_fhat(n)\n",
    "    n = len(n)\n",
    "            # step 4: calculate effective dimension(s) for each data sample size \"n\" out\n",
    "            # of normalized fishers\n",
    "    ns = n\n",
    "    logsum_axis = None\n",
    "    fs = f_hat * ns / (2 * np.pi * np.log(ns))\n",
    "    one_plus_fs = np.eye(3) + fs\n",
    "    dets = np.linalg.slogdet(one_plus_fs)[1]  # log det because of overflow\n",
    "    rs = dets / 2  # divide by 2 because of sqrt\n",
    "    effective_dims = 2 * (logsumexp(rs, axis=logsum_axis) - np.log(3)) / \\\n",
    "                        np.log(n / (2 * np.pi * np.log(n)))\n",
    "    \n",
    "    return np.squeeze(effective_dims)"
   ]
  },
  {
   "cell_type": "code",
   "execution_count": 11,
   "id": "529c8fbf",
   "metadata": {},
   "outputs": [],
   "source": [
    "    def get_fhat(\n",
    "            fishers: np.ndarray) -> [np.ndarray, np.ndarray]:\n",
    "        \"\"\"\n",
    "        This method computes the normalized Fisher Information Matrix (f_hat) out of a and extracts its trace.\n",
    "        Args:\n",
    "            fishers: The FIM to be normalized\n",
    "        Returns:\n",
    "             f_hat: The normalized FIM, of size (num_inputs, d, d)\n",
    "             fisher_trace: The trace of the FIM (before normalizing)\n",
    "        \"\"\"\n",
    "\n",
    "        # compute the trace with all fishers\n",
    "        fisher_trace = np.trace(np.average(fishers, axis=0))\n",
    "\n",
    "        # average the fishers over the num_inputs to get the empirical fishers\n",
    "        fisher_avg = np.average(np.reshape(fishers, (len(fishers), 1, 3, 3)), axis=0)\n",
    "\n",
    "        # calculate f_hats for all the empirical fishers\n",
    "        f_hat = 3 * fisher_avg / fisher_trace\n",
    "        return f_hat, fisher_trace"
   ]
  },
  {
   "cell_type": "code",
   "execution_count": null,
   "id": "0c504a1f",
   "metadata": {},
   "outputs": [],
   "source": []
  },
  {
   "cell_type": "code",
   "execution_count": 12,
   "id": "faa2c11c",
   "metadata": {},
   "outputs": [],
   "source": [
    "#https://github.com/ElePT/qiskit-machine-learning/blob/cceaa7e38702e030cf26a1a49f10c12b95b400be/qiskit_machine_learning/algorithms/effective_dimension.py#L174\n",
    "#goal is to implement this local effective dimension class using the fishers we've already calculated\n",
    "sample = np.array(iris2[0], requires_grad=True)\n",
    "mt_fn2 = np.array([np.zeros((3,3))], requires_grad = True)\n",
    "\n",
    "#calculate fisher for length of inputs\n",
    "for i in range(len(params)):\n",
    "    fisher = qml.qinfo.quantum_fisher(circ)(params[i])\n",
    "    mt_fn2 = np.append(mt_fn2, [fisher],axis = 0)\n",
    "\n",
    "#delete initialization matrix\n",
    "mt_fn2 = np.delete(mt_fn2, 0, 0)\n"
   ]
  },
  {
   "cell_type": "code",
   "execution_count": 13,
   "id": "afdf745e",
   "metadata": {
    "scrolled": false
   },
   "outputs": [
    {
     "name": "stdout",
     "output_type": "stream",
     "text": [
      "1.5049248646869626\n"
     ]
    }
   ],
   "source": [
    "led = get_eff_dim(mt_fn2)\n",
    "print(led)"
   ]
  },
  {
   "cell_type": "code",
   "execution_count": null,
   "id": "5baa4a1f",
   "metadata": {},
   "outputs": [],
   "source": []
  }
 ],
 "metadata": {
  "kernelspec": {
   "display_name": "Python 3 (ipykernel)",
   "language": "python",
   "name": "python3"
  },
  "language_info": {
   "codemirror_mode": {
    "name": "ipython",
    "version": 3
   },
   "file_extension": ".py",
   "mimetype": "text/x-python",
   "name": "python",
   "nbconvert_exporter": "python",
   "pygments_lexer": "ipython3",
   "version": "3.9.7"
  }
 },
 "nbformat": 4,
 "nbformat_minor": 5
}
