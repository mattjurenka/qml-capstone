{
 "cells": [
  {
   "cell_type": "code",
   "execution_count": null,
   "id": "d0ab9849",
   "metadata": {},
   "outputs": [],
   "source": [
    "#https://arxiv.org/pdf/2201.04093.pdf FSIM implementation\n",
    "@qml.qnode(DEV)\n",
    "def FSIM_circuit(weights, features):\n",
    "    rotational_encoding(features)\n",
    "    for W in weights:\n",
    "        for i in range(4):\n",
    "            qml.Hadamard(i)\n",
    "        qml.CNOT(wires=[0, 1])\n",
    "        qml.CNOT(wires=[1, 2])\n",
    "        qml.CNOT(wires=[2, 3])\n",
    "        qml.CNOT(wires=[3, 0])\n",
    "        qml.RY(W[0, 0], wires=0)\n",
    "        qml.RY(W[1, 0], wires=0)\n",
    "        qml.RY(W[2, 0], wires=0)\n",
    "        qml.RY(W[3, 0], wires=0)\n",
    "        qml.CNOT(wires=[0, 1])\n",
    "        qml.CNOT(wires=[1, 2])\n",
    "        qml.CNOT(wires=[2, 3])\n",
    "        qml.CNOT(wires=[3, 0])\n",
    "        for i in range(4):\n",
    "            qml.Hadamard(i)\n",
    "\n",
    "    return qml.expval(qml.PauliZ(0))"
   ]
  }
 ],
 "metadata": {
  "kernelspec": {
   "display_name": "Python 3 (ipykernel)",
   "language": "python",
   "name": "python3"
  },
  "language_info": {
   "codemirror_mode": {
    "name": "ipython",
    "version": 3
   },
   "file_extension": ".py",
   "mimetype": "text/x-python",
   "name": "python",
   "nbconvert_exporter": "python",
   "pygments_lexer": "ipython3",
   "version": "3.9.7"
  }
 },
 "nbformat": 4,
 "nbformat_minor": 5
}
