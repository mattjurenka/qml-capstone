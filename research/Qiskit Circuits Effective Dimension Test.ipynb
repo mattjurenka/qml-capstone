{
 "cells": [
  {
   "cell_type": "code",
   "execution_count": null,
   "id": "5892d649",
   "metadata": {},
   "outputs": [],
   "source": []
  },
  {
   "cell_type": "code",
   "execution_count": 1,
   "id": "a77a6e9d",
   "metadata": {},
   "outputs": [
    {
     "ename": "TypeError",
     "evalue": "deprecate_function() got an unexpected keyword argument 'category'",
     "output_type": "error",
     "traceback": [
      "\u001b[1;31m---------------------------------------------------------------------------\u001b[0m",
      "\u001b[1;31mTypeError\u001b[0m                                 Traceback (most recent call last)",
      "\u001b[1;32m~\\AppData\\Local\\Temp/ipykernel_11772/3910951252.py\u001b[0m in \u001b[0;36m<module>\u001b[1;34m\u001b[0m\n\u001b[0;32m     10\u001b[0m \u001b[1;32mfrom\u001b[0m \u001b[0mqiskit_machine_learning\u001b[0m\u001b[1;33m.\u001b[0m\u001b[0mneural_networks\u001b[0m \u001b[1;32mimport\u001b[0m \u001b[0mEffectiveDimension\u001b[0m\u001b[1;33m,\u001b[0m \u001b[0mLocalEffectiveDimension\u001b[0m\u001b[1;33m\u001b[0m\u001b[1;33m\u001b[0m\u001b[0m\n\u001b[0;32m     11\u001b[0m \u001b[1;33m\u001b[0m\u001b[0m\n\u001b[1;32m---> 12\u001b[1;33m \u001b[1;32mfrom\u001b[0m \u001b[0mqiskit_machine_learning\u001b[0m\u001b[1;33m.\u001b[0m\u001b[0malgorithms\u001b[0m\u001b[1;33m.\u001b[0m\u001b[0mclassifiers\u001b[0m \u001b[1;32mimport\u001b[0m \u001b[0mNeuralNetworkClassifier\u001b[0m\u001b[1;33m,\u001b[0m \u001b[0mVQC\u001b[0m\u001b[1;33m\u001b[0m\u001b[1;33m\u001b[0m\u001b[0m\n\u001b[0m\u001b[0;32m     13\u001b[0m \u001b[1;33m\u001b[0m\u001b[0m\n\u001b[0;32m     14\u001b[0m \u001b[1;32mfrom\u001b[0m \u001b[0mIPython\u001b[0m\u001b[1;33m.\u001b[0m\u001b[0mdisplay\u001b[0m \u001b[1;32mimport\u001b[0m \u001b[0mclear_output\u001b[0m\u001b[1;33m\u001b[0m\u001b[1;33m\u001b[0m\u001b[0m\n",
      "\u001b[1;32m~\\anaconda3\\lib\\site-packages\\qiskit_machine_learning\\algorithms\\__init__.py\u001b[0m in \u001b[0;36m<module>\u001b[1;34m\u001b[0m\n\u001b[0;32m     81\u001b[0m \u001b[1;33m\u001b[0m\u001b[0m\n\u001b[0;32m     82\u001b[0m \"\"\"\n\u001b[1;32m---> 83\u001b[1;33m \u001b[1;32mfrom\u001b[0m \u001b[1;33m.\u001b[0m\u001b[0mtrainable_model\u001b[0m \u001b[1;32mimport\u001b[0m \u001b[0mTrainableModel\u001b[0m\u001b[1;33m\u001b[0m\u001b[1;33m\u001b[0m\u001b[0m\n\u001b[0m\u001b[0;32m     84\u001b[0m \u001b[1;32mfrom\u001b[0m \u001b[1;33m.\u001b[0m\u001b[0mserializable_model\u001b[0m \u001b[1;32mimport\u001b[0m \u001b[0mSerializableModelMixin\u001b[0m\u001b[1;33m\u001b[0m\u001b[1;33m\u001b[0m\u001b[0m\n\u001b[0;32m     85\u001b[0m from .objective_functions import (\n",
      "\u001b[1;32m~\\anaconda3\\lib\\site-packages\\qiskit_machine_learning\\algorithms\\trainable_model.py\u001b[0m in \u001b[0;36m<module>\u001b[1;34m\u001b[0m\n\u001b[0;32m     22\u001b[0m \u001b[1;32mfrom\u001b[0m \u001b[0mqiskit_machine_learning\u001b[0m \u001b[1;32mimport\u001b[0m \u001b[0mQiskitMachineLearningError\u001b[0m\u001b[1;33m\u001b[0m\u001b[1;33m\u001b[0m\u001b[0m\n\u001b[0;32m     23\u001b[0m \u001b[1;32mfrom\u001b[0m \u001b[0mqiskit_machine_learning\u001b[0m\u001b[1;33m.\u001b[0m\u001b[0mneural_networks\u001b[0m \u001b[1;32mimport\u001b[0m \u001b[0mNeuralNetwork\u001b[0m\u001b[1;33m\u001b[0m\u001b[1;33m\u001b[0m\u001b[0m\n\u001b[1;32m---> 24\u001b[1;33m from qiskit_machine_learning.utils.loss_functions import (\n\u001b[0m\u001b[0;32m     25\u001b[0m     \u001b[0mLoss\u001b[0m\u001b[1;33m,\u001b[0m\u001b[1;33m\u001b[0m\u001b[1;33m\u001b[0m\u001b[0m\n\u001b[0;32m     26\u001b[0m     \u001b[0mL1Loss\u001b[0m\u001b[1;33m,\u001b[0m\u001b[1;33m\u001b[0m\u001b[1;33m\u001b[0m\u001b[0m\n",
      "\u001b[1;32m~\\anaconda3\\lib\\site-packages\\qiskit_machine_learning\\utils\\loss_functions\\__init__.py\u001b[0m in \u001b[0;36m<module>\u001b[1;34m\u001b[0m\n\u001b[0;32m     51\u001b[0m )\n\u001b[0;32m     52\u001b[0m \u001b[1;33m\u001b[0m\u001b[0m\n\u001b[1;32m---> 53\u001b[1;33m \u001b[1;32mfrom\u001b[0m \u001b[1;33m.\u001b[0m\u001b[0mkernel_loss_functions\u001b[0m \u001b[1;32mimport\u001b[0m \u001b[0mKernelLoss\u001b[0m\u001b[1;33m,\u001b[0m \u001b[0mSVCLoss\u001b[0m\u001b[1;33m\u001b[0m\u001b[1;33m\u001b[0m\u001b[0m\n\u001b[0m\u001b[0;32m     54\u001b[0m \u001b[1;33m\u001b[0m\u001b[0m\n\u001b[0;32m     55\u001b[0m __all__ = [\n",
      "\u001b[1;32m~\\anaconda3\\lib\\site-packages\\qiskit_machine_learning\\utils\\loss_functions\\kernel_loss_functions.py\u001b[0m in \u001b[0;36m<module>\u001b[1;34m\u001b[0m\n\u001b[0;32m     20\u001b[0m \u001b[1;33m\u001b[0m\u001b[0m\n\u001b[0;32m     21\u001b[0m \u001b[1;31m# Prevent circular dependencies caused from type checking\u001b[0m\u001b[1;33m\u001b[0m\u001b[1;33m\u001b[0m\u001b[0m\n\u001b[1;32m---> 22\u001b[1;33m \u001b[1;32mfrom\u001b[0m \u001b[1;33m...\u001b[0m\u001b[0mkernels\u001b[0m \u001b[1;32mimport\u001b[0m \u001b[0mTrainableKernel\u001b[0m\u001b[1;33m\u001b[0m\u001b[1;33m\u001b[0m\u001b[0m\n\u001b[0m\u001b[0;32m     23\u001b[0m \u001b[1;33m\u001b[0m\u001b[0m\n\u001b[0;32m     24\u001b[0m \u001b[1;33m\u001b[0m\u001b[0m\n",
      "\u001b[1;32m~\\anaconda3\\lib\\site-packages\\qiskit_machine_learning\\kernels\\__init__.py\u001b[0m in \u001b[0;36m<module>\u001b[1;34m\u001b[0m\n\u001b[0;32m     38\u001b[0m \"\"\"\n\u001b[0;32m     39\u001b[0m \u001b[1;33m\u001b[0m\u001b[0m\n\u001b[1;32m---> 40\u001b[1;33m \u001b[1;32mfrom\u001b[0m \u001b[1;33m.\u001b[0m\u001b[0mquantum_kernel\u001b[0m \u001b[1;32mimport\u001b[0m \u001b[0mQuantumKernel\u001b[0m\u001b[1;33m\u001b[0m\u001b[1;33m\u001b[0m\u001b[0m\n\u001b[0m\u001b[0;32m     41\u001b[0m \u001b[1;32mfrom\u001b[0m \u001b[1;33m.\u001b[0m\u001b[0mbase_kernel\u001b[0m \u001b[1;32mimport\u001b[0m \u001b[0mBaseKernel\u001b[0m\u001b[1;33m\u001b[0m\u001b[1;33m\u001b[0m\u001b[0m\n\u001b[0;32m     42\u001b[0m \u001b[1;32mfrom\u001b[0m \u001b[1;33m.\u001b[0m\u001b[0mfidelity_quantum_kernel\u001b[0m \u001b[1;32mimport\u001b[0m \u001b[0mFidelityQuantumKernel\u001b[0m\u001b[1;33m\u001b[0m\u001b[1;33m\u001b[0m\u001b[0m\n",
      "\u001b[1;32m~\\anaconda3\\lib\\site-packages\\qiskit_machine_learning\\kernels\\quantum_kernel.py\u001b[0m in \u001b[0;36m<module>\u001b[1;34m\u001b[0m\n\u001b[0;32m     38\u001b[0m \u001b[1;33m\u001b[0m\u001b[0m\n\u001b[0;32m     39\u001b[0m \u001b[1;33m\u001b[0m\u001b[0m\n\u001b[1;32m---> 40\u001b[1;33m \u001b[1;32mclass\u001b[0m \u001b[0mQuantumKernel\u001b[0m\u001b[1;33m(\u001b[0m\u001b[0mTrainableKernel\u001b[0m\u001b[1;33m,\u001b[0m \u001b[0mBaseKernel\u001b[0m\u001b[1;33m)\u001b[0m\u001b[1;33m:\u001b[0m\u001b[1;33m\u001b[0m\u001b[1;33m\u001b[0m\u001b[0m\n\u001b[0m\u001b[0;32m     41\u001b[0m     r\"\"\"Pending deprecation: Quantum Kernel.\n\u001b[0;32m     42\u001b[0m \u001b[1;33m\u001b[0m\u001b[0m\n",
      "\u001b[1;32m~\\anaconda3\\lib\\site-packages\\qiskit_machine_learning\\kernels\\quantum_kernel.py\u001b[0m in \u001b[0;36mQuantumKernel\u001b[1;34m()\u001b[0m\n\u001b[0;32m     59\u001b[0m \u001b[1;33m\u001b[0m\u001b[0m\n\u001b[0;32m     60\u001b[0m     \u001b[1;33m@\u001b[0m\u001b[0mdeprecate_arguments\u001b[0m\u001b[1;33m(\u001b[0m\u001b[1;34m\"0.5.0\"\u001b[0m\u001b[1;33m,\u001b[0m \u001b[1;33m{\u001b[0m\u001b[1;34m\"user_parameters\"\u001b[0m\u001b[1;33m:\u001b[0m \u001b[1;34m\"training_parameters\"\u001b[0m\u001b[1;33m}\u001b[0m\u001b[1;33m)\u001b[0m\u001b[1;33m\u001b[0m\u001b[1;33m\u001b[0m\u001b[0m\n\u001b[1;32m---> 61\u001b[1;33m     @deprecate_function(\n\u001b[0m\u001b[0;32m     62\u001b[0m         \u001b[1;34m\"The QuantumKernel class has been superseded by the \"\u001b[0m\u001b[1;33m\u001b[0m\u001b[1;33m\u001b[0m\u001b[0m\n\u001b[0;32m     63\u001b[0m         \u001b[1;34m\"qiskit_machine_learning.kernels.FidelityQuantumKernel and \"\u001b[0m\u001b[1;33m\u001b[0m\u001b[1;33m\u001b[0m\u001b[0m\n",
      "\u001b[1;31mTypeError\u001b[0m: deprecate_function() got an unexpected keyword argument 'category'"
     ]
    }
   ],
   "source": [
    "from qiskit.circuit.library import ZFeatureMap, ZZFeatureMap, RealAmplitudes\n",
    "import matplotlib.pyplot as plt\n",
    "import numpy as np\n",
    "import pandas as pd\n",
    "\n",
    "from qiskit_machine_learning.neural_networks import CircuitQNN, TwoLayerQNN\n",
    "from qiskit.utils import QuantumInstance, algorithm_globals\n",
    "from qiskit import Aer, QuantumCircuit\n",
    "\n",
    "from qiskit_machine_learning.neural_networks import EffectiveDimension, LocalEffectiveDimension\n",
    "\n",
    "from qiskit_machine_learning.algorithms.classifiers import NeuralNetworkClassifier, VQC\n",
    "\n",
    "from IPython.display import clear_output"
   ]
  },
  {
   "cell_type": "code",
   "execution_count": null,
   "id": "95810010",
   "metadata": {},
   "outputs": [],
   "source": [
    "WEIGHTS_INIT = 0.01 * np.random.randn(4, 4, 3)\n",
    "iris2 = np.array([[5.1,3.5,1.4,0.2],\n",
    "[4.9,3.0,1.4,0.2],\n",
    "[4.7,3.2,1.3,0.2],\n",
    "[4.6,3.1,1.5,0.2],\n",
    "[5.0,3.6,1.4,0.2],\n",
    "[5.4,3.9,1.7,0.4],\n",
    "[4.6,3.4,1.4,0.3],\n",
    "[5.0,3.4,1.5,0.2],\n",
    "[4.4,2.9,1.4,0.2],\n",
    "[4.9,3.1,1.5,0.1],\n",
    "[5.4,3.7,1.5,0.2],\n",
    "[4.8,3.4,1.6,0.2],\n",
    "[4.8,3.0,1.4,0.1],\n",
    "[4.3,3.0,1.1,0.1],\n",
    "[5.8,4.0,1.2,0.2],\n",
    "[5.7,4.4,1.5,0.4],\n",
    "[5.4,3.9,1.3,0.4],\n",
    "[5.1,3.5,1.4,0.3],\n",
    "[5.7,3.8,1.7,0.3],\n",
    "[5.1,3.8,1.5,0.3],\n",
    "[5.4,3.4,1.7,0.2],\n",
    "[5.1,3.7,1.5,0.4],\n",
    "[4.6,3.6,1.0,0.2],\n",
    "[5.1,3.3,1.7,0.5],\n",
    "[4.8,3.4,1.9,0.2],\n",
    "[5.0,3.0,1.6,0.2],\n",
    "[5.0,3.4,1.6,0.4],\n",
    "[5.2,3.5,1.5,0.2],\n",
    "[5.2,3.4,1.4,0.2],\n",
    "[4.7,3.2,1.6,0.2],\n",
    "[4.8,3.1,1.6,0.2],\n",
    "[5.4,3.4,1.5,0.4],\n",
    "[5.2,4.1,1.5,0.1],\n",
    "[5.5,4.2,1.4,0.2],\n",
    "[4.9,3.1,1.5,0.1],\n",
    "[5.0,3.2,1.2,0.2],\n",
    "[5.5,3.5,1.3,0.2],\n",
    "[4.9,3.1,1.5,0.1],\n",
    "[4.4,3.0,1.3,0.2],\n",
    "[5.1,3.4,1.5,0.2],\n",
    "[5.0,3.5,1.3,0.3],\n",
    "[4.5,2.3,1.3,0.3],\n",
    "[4.4,3.2,1.3,0.2],\n",
    "[7.0,3.2,4.7,1.4,],\n",
    "[6.4,3.2,4.5,1.5],\n",
    "[6.9,3.1,4.9,1.5],\n",
    "[5.5,2.3,4.0,1.3],\n",
    "[6.5,2.8,4.6,1.5],\n",
    "[5.7,2.8,4.5,1.3],\n",
    "[6.3,3.3,4.7,1.6],\n",
    "[4.9,2.4,3.3,1.0],\n",
    "[6.6,2.9,4.6,1.3],\n",
    "[5.2,2.7,3.9,1.4],\n",
    "[5.0,2.0,3.5,1.0],\n",
    "[5.9,3.0,4.2,1.5],\n",
    "[6.0,2.2,4.0,1.0]])\n",
    "num_qubits = 4\n",
    "qc = QuantumCircuit(num_qubits)\n",
    "\n",
    "def rotational_encoding(x):\n",
    "    qc = QuantumCircuit(num_qubits)\n",
    "    for i in range(num_qubits):\n",
    "        qc.z(i)\n",
    "#def circuit:\n",
    "    #def __init__(self, weights, features):\n",
    "        #self.weights = weights\n",
    "        #self.features = features\n",
    "        \n",
    "# create a variational circuit\n",
    "def pennylane_circuit(weights, features):\n",
    "    rotational_encoding(features)\n",
    "\n",
    "    for W in weights:\n",
    "        pennylane_circuit_layer(W)\n",
    "\n",
    "def pennylane_circuit_layer(W):\n",
    "    qc.rz(W[0,0], 0)\n",
    "    qc.rz(W[1,0], 1)\n",
    "    qc.rz(W[2,0], 2)\n",
    "    qc.rz(W[3,0], 3)\n",
    "    qc.cnot(0, 1)\n",
    "    qc.cnot(1, 2)\n",
    "    qc.cnot(2, 3)\n",
    "    qc.cnot(3, 0)\n",
    "\n",
    "qi_sv = QuantumInstance(Aer.get_backend('qiskit.aer'))\n",
    "weights = WEIGHTS_INIT\n",
    "print(qi_sv.pennylane_circuit(weights, iris2))\n",
    "qc.append(circuit.pennylane_circuit(weights, iris2))\n",
    "qnn = CircuitQNN(\n",
    "qc,\n",
    "input_params=feature_map.parameters,\n",
    "weight_params=ansatz.parameters,\n",
    "interpret=parity,\n",
    "output_shape=output_shape,\n",
    "sparse=False,\n",
    "quantum_instance=qi_sv,\n",
    ")\n",
    "# combine feature map and ansatz into a single circuit)"
   ]
  },
  {
   "cell_type": "code",
   "execution_count": null,
   "id": "9bc6fbe4",
   "metadata": {},
   "outputs": [],
   "source": [
    "num_input_samples = 10\n",
    "num_weight_samples = 10\n",
    "\n",
    "global_ed = EffectiveDimension(\n",
    "    qnn=qnn, weight_samples=num_weight_samples, input_samples=num_input_samples\n",
    ")"
   ]
  },
  {
   "cell_type": "code",
   "execution_count": null,
   "id": "44eaa4b7",
   "metadata": {},
   "outputs": [],
   "source": [
    "n = []\n",
    "for i in range(0, 150, 5):\n",
    "    n.append(i)"
   ]
  },
  {
   "cell_type": "code",
   "execution_count": null,
   "id": "b7186503",
   "metadata": {},
   "outputs": [],
   "source": [
    "input_samples = algorithm_globals.random.normal(0, 1, size=(10, qnn.num_inputs))\n",
    "weight_samples = algorithm_globals.random.uniform(0, 1, size=(10, qnn.num_weights))\n",
    "\n",
    "global_ed = EffectiveDimension(qnn=qnn, weight_samples=weight_samples, input_samples=input_samples)"
   ]
  },
  {
   "cell_type": "code",
   "execution_count": null,
   "id": "f77ea95b",
   "metadata": {},
   "outputs": [],
   "source": [
    "global_eff_dim_0 = global_ed.get_effective_dimension(dataset_size=n[0])"
   ]
  },
  {
   "cell_type": "code",
   "execution_count": null,
   "id": "1bb19e70",
   "metadata": {},
   "outputs": [],
   "source": [
    "d = qnn.num_weights\n",
    "\n",
    "print(\"Data size: {}, global effective dimension: {:.4f}\".format(n[0], global_eff_dim_0))\n",
    "print(\n",
    "    \"Number of weights: {}, normalized effective dimension: {:.4f}\".format(d, global_eff_dim_0 / d)\n",
    ")"
   ]
  },
  {
   "cell_type": "code",
   "execution_count": null,
   "id": "7c7cf5c5",
   "metadata": {},
   "outputs": [],
   "source": [
    "global_eff_dim_1 = global_ed.get_effective_dimension(dataset_size=n)"
   ]
  },
  {
   "cell_type": "code",
   "execution_count": null,
   "id": "d48d007c",
   "metadata": {},
   "outputs": [],
   "source": [
    "print(\"Effective dimension: {}\".format(global_eff_dim_1))\n",
    "print(\"Number of weights: {}\".format(d))"
   ]
  },
  {
   "cell_type": "code",
   "execution_count": null,
   "id": "08b999fd",
   "metadata": {},
   "outputs": [],
   "source": [
    "# plot the normalized effective dimension for the model\n",
    "plt.plot(n, np.array(global_eff_dim_1) / d)\n",
    "plt.xlabel(\"Number of data\")\n",
    "plt.ylabel(\"Normalized GLOBAL effective dimension\")\n",
    "plt.show()"
   ]
  }
 ],
 "metadata": {
  "kernelspec": {
   "display_name": "Python 3 (ipykernel)",
   "language": "python",
   "name": "python3"
  },
  "language_info": {
   "codemirror_mode": {
    "name": "ipython",
    "version": 3
   },
   "file_extension": ".py",
   "mimetype": "text/x-python",
   "name": "python",
   "nbconvert_exporter": "python",
   "pygments_lexer": "ipython3",
   "version": "3.9.7"
  }
 },
 "nbformat": 4,
 "nbformat_minor": 5
}
