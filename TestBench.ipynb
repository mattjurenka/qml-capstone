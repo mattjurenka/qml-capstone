{
 "cells": [
  {
   "cell_type": "code",
   "execution_count": 1,
   "id": "34db21a7",
   "metadata": {},
   "outputs": [],
   "source": [
    "import pennylane as qml\n",
    "from pennylane import numpy as np\n",
    "from pennylane.optimize import NesterovMomentumOptimizer\n",
    "from pennylane import AngleEmbedding"
   ]
  },
  {
   "cell_type": "code",
   "execution_count": 2,
   "id": "8e42d2fe",
   "metadata": {},
   "outputs": [],
   "source": [
    "dev = qml.device(\"default.qubit\", wires=4)"
   ]
  },
  {
   "cell_type": "code",
   "execution_count": 3,
   "id": "f7858518",
   "metadata": {},
   "outputs": [],
   "source": [
    "def rot(x):\n",
    "    qml.Rot(x[0], x[0], x[0], wires=0)\n",
    "    qml.Rot(x[1], x[1], x[1], wires=1)\n",
    "    qml.Rot(x[2], x[2], x[2], wires=2)\n",
    "    qml.Rot(x[3], x[3], x[3], wires=3)\n",
    "    qml.CNOT(wires=[0, 1])\n",
    "    qml.CNOT(wires=[1, 2])\n",
    "    qml.CNOT(wires=[2, 3])\n",
    "    qml.CNOT(wires=[3, 0])\n",
    "    return np.array(x)\n",
    "\n"
   ]
  },
  {
   "cell_type": "code",
   "execution_count": 4,
   "id": "639e0418",
   "metadata": {},
   "outputs": [
    {
     "name": "stdout",
     "output_type": "stream",
     "text": [
      "[0.53896774 0.79503606 0.27826503 0.        ]\n",
      "x               :  [0.53896774 0.79503606 0.27826503 0.        ]\n",
      "angles          :  [0.53896774 0.79503606 0.27826503 0.        ]\n"
     ]
    }
   ],
   "source": [
    "x = np.array([0.53896774, 0.79503606, 0.27826503, 0.0], requires_grad=False)\n",
    "ang = rot(x)\n",
    "\n",
    "print(ang)\n",
    "@qml.qnode(dev)\n",
    "def test(angles):\n",
    "\n",
    "    rot(angles)\n",
    "    return qml.expval(qml.PauliZ(0))\n",
    "\n",
    "\n",
    "test(ang)\n",
    "\n",
    "print(\"x               : \", x)\n",
    "print(\"angles          : \", ang)\n",
    "#print(\"amplitude vector: \", np.real(dev.state))"
   ]
  },
  {
   "cell_type": "code",
   "execution_count": 5,
   "id": "274bcbf3",
   "metadata": {},
   "outputs": [],
   "source": [
    "def layer(W):\n",
    "    qml.Rot(W[0, 0], W[0, 1], W[0, 2], wires=0)\n",
    "    qml.Rot(W[1, 0], W[1, 1], W[1, 2], wires=1)\n",
    "    qml.Rot(W[2, 0], W[2, 1], W[2, 2], wires=2)\n",
    "    qml.Rot(W[3, 0], W[3, 1], W[3, 2], wires=3)    \n",
    "    qml.CNOT(wires=[0, 1])\n",
    "    qml.CNOT(wires=[1, 2])\n",
    "    qml.CNOT(wires=[2, 3])\n",
    "    qml.CNOT(wires=[3, 0])"
   ]
  },
  {
   "cell_type": "code",
   "execution_count": 6,
   "id": "b97f3b48",
   "metadata": {},
   "outputs": [],
   "source": [
    "@qml.qnode(dev)\n",
    "def circuit(weights, angles):\n",
    "    rot(angles)\n",
    "\n",
    "    for W in weights:\n",
    "        layer(W)\n",
    "\n",
    "    return qml.expval(qml.PauliZ(0))\n",
    "\n",
    "\n",
    "def variational_classifier(weights, bias, angles):\n",
    "    return circuit(weights, angles) + bias\n",
    "\n",
    "\n",
    "def cost(weights, bias, features, labels):\n",
    "    predictions = [variational_classifier(weights, bias, f) for f in features]\n",
    "    return square_loss(labels, predictions)"
   ]
  },
  {
   "cell_type": "code",
   "execution_count": 7,
   "id": "053b239b",
   "metadata": {},
   "outputs": [
    {
     "name": "stdout",
     "output_type": "stream",
     "text": [
      "First X sample (original)  : [0.4  0.75 0.2  0.05]\n",
      "First X sample (normalized): [0.45732956 0.85749293 0.22866478 0.0571662 ]\n",
      "First features sample      : [0.45732956 0.85749293 0.22866478 0.0571662 ]\n"
     ]
    }
   ],
   "source": [
    "data = np.loadtxt(\"variational classifier/iris_classes1and2_scaled.txt\")\n",
    "X = data[:, 0:4]\n",
    "print(\"First X sample (original)  :\", X[0])\n",
    "\n",
    "#Quick normalization\n",
    "X_norm = np.array([x / np.linalg.norm(x) for x in X])\n",
    "print(\"First X sample (normalized):\", X_norm[0])\n",
    "\n",
    "# angles for state preparation are new features\n",
    "features = np.array([rot(x) for x in X_norm], requires_grad=False)\n",
    "print(\"First features sample      :\", features[0])\n",
    "\n",
    "Y = data[:, -1]"
   ]
  },
  {
   "cell_type": "code",
   "execution_count": 8,
   "id": "cc82404a",
   "metadata": {},
   "outputs": [],
   "source": [
    "np.random.seed(0)\n",
    "num_data = len(Y)\n",
    "num_train = int(0.75 * num_data)\n",
    "index = np.random.permutation(range(num_data))\n",
    "feats_train = features[index[:num_train]]\n",
    "Y_train = Y[index[:num_train]]\n",
    "feats_val = features[index[num_train:]]\n",
    "Y_val = Y[index[num_train:]]\n",
    "\n",
    "# We need these later for plotting\n",
    "X_train = X[index[:num_train]]\n",
    "X_val = X[index[num_train:]]"
   ]
  },
  {
   "cell_type": "code",
   "execution_count": 9,
   "id": "4af6a96e",
   "metadata": {},
   "outputs": [],
   "source": [
    "num_qubits = 4\n",
    "num_layers = 6\n",
    "\n",
    "weights_init = 0.01 * np.random.randn(num_layers, num_qubits, 3, requires_grad=True)\n",
    "bias_init = np.array(0.0, requires_grad=True)"
   ]
  },
  {
   "cell_type": "code",
   "execution_count": 10,
   "id": "004d4dc0",
   "metadata": {},
   "outputs": [],
   "source": [
    "def square_loss(labels, predictions):\n",
    "    loss = 0\n",
    "    for l, p in zip(labels, predictions):\n",
    "        loss = loss + (l - p) ** 2\n",
    "\n",
    "    loss = loss / len(labels)\n",
    "    return loss"
   ]
  },
  {
   "cell_type": "code",
   "execution_count": 11,
   "id": "f265c47d",
   "metadata": {},
   "outputs": [],
   "source": [
    "def accuracy(labels, predictions):\n",
    "\n",
    "    loss = 0\n",
    "    for l, p in zip(labels, predictions):\n",
    "        if abs(l - p) < 1e-5:\n",
    "            loss = loss + 1\n",
    "    loss = loss / len(labels)\n",
    "\n",
    "    return loss"
   ]
  },
  {
   "cell_type": "code",
   "execution_count": 12,
   "id": "6a0e0762",
   "metadata": {},
   "outputs": [],
   "source": [
    "def cost(weights, bias, X, Y):\n",
    "    predictions = [variational_classifier(weights, bias, x) for x in X]\n",
    "    return square_loss(Y, predictions)"
   ]
  },
  {
   "cell_type": "code",
   "execution_count": 13,
   "id": "6b57694d",
   "metadata": {},
   "outputs": [
    {
     "name": "stdout",
     "output_type": "stream",
     "text": [
      "Iter:     1 | Cost: 1.6342893 | Acc train: 0.4800000 | Acc validation: 0.5600000 \n",
      "Iter:     2 | Cost: 1.2132308 | Acc train: 0.4800000 | Acc validation: 0.5600000 \n",
      "Iter:     3 | Cost: 1.2107145 | Acc train: 0.4800000 | Acc validation: 0.5600000 \n",
      "Iter:     4 | Cost: 1.2856098 | Acc train: 0.4800000 | Acc validation: 0.5600000 \n",
      "Iter:     5 | Cost: 1.2051608 | Acc train: 0.4800000 | Acc validation: 0.5600000 \n",
      "Iter:     6 | Cost: 1.0334591 | Acc train: 0.4800000 | Acc validation: 0.5600000 \n",
      "Iter:     7 | Cost: 0.8358860 | Acc train: 0.5066667 | Acc validation: 0.5600000 \n",
      "Iter:     8 | Cost: 0.6623393 | Acc train: 0.9866667 | Acc validation: 1.0000000 \n",
      "Iter:     9 | Cost: 0.6256633 | Acc train: 0.9600000 | Acc validation: 0.9600000 \n",
      "Iter:    10 | Cost: 0.5748262 | Acc train: 0.9866667 | Acc validation: 1.0000000 \n",
      "Iter:    11 | Cost: 0.5179456 | Acc train: 0.9866667 | Acc validation: 1.0000000 \n",
      "Iter:    12 | Cost: 0.5007940 | Acc train: 1.0000000 | Acc validation: 1.0000000 \n",
      "Iter:    13 | Cost: 0.5997251 | Acc train: 0.5866667 | Acc validation: 0.4800000 \n",
      "Iter:    14 | Cost: 0.6276021 | Acc train: 0.5333333 | Acc validation: 0.4400000 \n",
      "Iter:    15 | Cost: 0.5245264 | Acc train: 1.0000000 | Acc validation: 1.0000000 \n",
      "Iter:    16 | Cost: 0.5039519 | Acc train: 1.0000000 | Acc validation: 1.0000000 \n",
      "Iter:    17 | Cost: 0.5425736 | Acc train: 0.9866667 | Acc validation: 1.0000000 \n",
      "Iter:    18 | Cost: 0.4492432 | Acc train: 0.9866667 | Acc validation: 1.0000000 \n",
      "Iter:    19 | Cost: 0.4604806 | Acc train: 1.0000000 | Acc validation: 1.0000000 \n",
      "Iter:    20 | Cost: 0.4976100 | Acc train: 1.0000000 | Acc validation: 1.0000000 \n",
      "Iter:    21 | Cost: 0.5558304 | Acc train: 0.6800000 | Acc validation: 0.7200000 \n",
      "Iter:    22 | Cost: 0.5204754 | Acc train: 0.9466667 | Acc validation: 0.9200000 \n",
      "Iter:    23 | Cost: 0.4614698 | Acc train: 1.0000000 | Acc validation: 1.0000000 \n",
      "Iter:    24 | Cost: 0.4598397 | Acc train: 1.0000000 | Acc validation: 1.0000000 \n",
      "Iter:    25 | Cost: 0.4547712 | Acc train: 1.0000000 | Acc validation: 1.0000000 \n",
      "Iter:    26 | Cost: 0.4290071 | Acc train: 1.0000000 | Acc validation: 1.0000000 \n",
      "Iter:    27 | Cost: 0.4294998 | Acc train: 1.0000000 | Acc validation: 1.0000000 \n",
      "Iter:    28 | Cost: 0.5025592 | Acc train: 0.8933333 | Acc validation: 0.9200000 \n",
      "Iter:    29 | Cost: 0.4676468 | Acc train: 1.0000000 | Acc validation: 1.0000000 \n",
      "Iter:    30 | Cost: 0.4169714 | Acc train: 1.0000000 | Acc validation: 1.0000000 \n",
      "Iter:    31 | Cost: 0.3938684 | Acc train: 1.0000000 | Acc validation: 1.0000000 \n",
      "Iter:    32 | Cost: 0.3776451 | Acc train: 1.0000000 | Acc validation: 1.0000000 \n",
      "Iter:    33 | Cost: 0.3736590 | Acc train: 1.0000000 | Acc validation: 1.0000000 \n",
      "Iter:    34 | Cost: 0.3797317 | Acc train: 0.9866667 | Acc validation: 1.0000000 \n",
      "Iter:    35 | Cost: 0.3784337 | Acc train: 0.9866667 | Acc validation: 1.0000000 \n",
      "Iter:    36 | Cost: 0.3696073 | Acc train: 1.0000000 | Acc validation: 1.0000000 \n",
      "Iter:    37 | Cost: 0.3740439 | Acc train: 1.0000000 | Acc validation: 1.0000000 \n",
      "Iter:    38 | Cost: 0.3942555 | Acc train: 1.0000000 | Acc validation: 1.0000000 \n",
      "Iter:    39 | Cost: 0.4262295 | Acc train: 1.0000000 | Acc validation: 1.0000000 \n",
      "Iter:    40 | Cost: 0.4018773 | Acc train: 1.0000000 | Acc validation: 1.0000000 \n",
      "Iter:    41 | Cost: 0.4045810 | Acc train: 1.0000000 | Acc validation: 1.0000000 \n",
      "Iter:    42 | Cost: 0.3730645 | Acc train: 1.0000000 | Acc validation: 1.0000000 \n",
      "Iter:    43 | Cost: 0.3510198 | Acc train: 1.0000000 | Acc validation: 1.0000000 \n",
      "Iter:    44 | Cost: 0.3578354 | Acc train: 0.9866667 | Acc validation: 1.0000000 \n",
      "Iter:    45 | Cost: 0.3936183 | Acc train: 0.9866667 | Acc validation: 1.0000000 \n",
      "Iter:    46 | Cost: 0.4900522 | Acc train: 0.9200000 | Acc validation: 0.8800000 \n",
      "Iter:    47 | Cost: 0.4996943 | Acc train: 0.9066667 | Acc validation: 0.8800000 \n",
      "Iter:    48 | Cost: 0.4543865 | Acc train: 0.9600000 | Acc validation: 0.9600000 \n",
      "Iter:    49 | Cost: 0.4114285 | Acc train: 0.9866667 | Acc validation: 1.0000000 \n",
      "Iter:    50 | Cost: 0.3578510 | Acc train: 1.0000000 | Acc validation: 1.0000000 \n",
      "Iter:    51 | Cost: 0.3861626 | Acc train: 1.0000000 | Acc validation: 1.0000000 \n",
      "Iter:    52 | Cost: 0.4284473 | Acc train: 1.0000000 | Acc validation: 1.0000000 \n",
      "Iter:    53 | Cost: 0.4917734 | Acc train: 0.8933333 | Acc validation: 0.9200000 \n",
      "Iter:    54 | Cost: 0.5556291 | Acc train: 0.6533333 | Acc validation: 0.6400000 \n",
      "Iter:    55 | Cost: 0.5523912 | Acc train: 0.6666667 | Acc validation: 0.6800000 \n",
      "Iter:    56 | Cost: 0.4781886 | Acc train: 1.0000000 | Acc validation: 1.0000000 \n",
      "Iter:    57 | Cost: 0.4351279 | Acc train: 0.9866667 | Acc validation: 1.0000000 \n",
      "Iter:    58 | Cost: 0.4716556 | Acc train: 0.9866667 | Acc validation: 1.0000000 \n",
      "Iter:    59 | Cost: 0.5883464 | Acc train: 0.7866667 | Acc validation: 0.8000000 \n",
      "Iter:    60 | Cost: 0.6130827 | Acc train: 0.6933333 | Acc validation: 0.6000000 \n"
     ]
    }
   ],
   "source": [
    "opt = qml.optimize.AdamOptimizer(0.1)\n",
    "batch_size = 5\n",
    "\n",
    "# train the variational classifier\n",
    "weights = weights_init\n",
    "bias = bias_init\n",
    "for it in range(60):\n",
    "\n",
    "    # Update the weights by one optimizer step\n",
    "    batch_index = np.random.randint(0, num_train, (batch_size,))\n",
    "    feats_train_batch = feats_train[batch_index]\n",
    "    Y_train_batch = Y_train[batch_index]\n",
    "    weights, bias, _, _ = opt.step(cost, weights, bias, feats_train_batch, Y_train_batch)\n",
    "\n",
    "    # Compute predictions on train and validation set\n",
    "    predictions_train = [np.sign(variational_classifier(weights, bias, f)) for f in feats_train]\n",
    "    predictions_val = [np.sign(variational_classifier(weights, bias, f)) for f in feats_val]\n",
    "\n",
    "    # Compute accuracy on train and validation set\n",
    "    acc_train = accuracy(Y_train, predictions_train)\n",
    "    acc_val = accuracy(Y_val, predictions_val)\n",
    "\n",
    "    print(\n",
    "        \"Iter: {:5d} | Cost: {:0.7f} | Acc train: {:0.7f} | Acc validation: {:0.7f} \"\n",
    "        \"\".format(it + 1, cost(weights, bias, features, Y), acc_train, acc_val)\n",
    "    )"
   ]
  }
 ],
 "metadata": {
  "kernelspec": {
   "display_name": "Python 3 (ipykernel)",
   "language": "python",
   "name": "python3"
  },
  "language_info": {
   "codemirror_mode": {
    "name": "ipython",
    "version": 3
   },
   "file_extension": ".py",
   "mimetype": "text/x-python",
   "name": "python",
   "nbconvert_exporter": "python",
   "pygments_lexer": "ipython3",
   "version": "3.9.7"
  }
 },
 "nbformat": 4,
 "nbformat_minor": 5
}
